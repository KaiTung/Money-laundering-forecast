{
 "cells": [
  {
   "cell_type": "code",
   "execution_count": 553,
   "metadata": {},
   "outputs": [],
   "source": [
    "import pandas as pd\n",
    "import seaborn as sns\n",
    "import matplotlib.pyplot as plt\n",
    "import numpy as np\n",
    "from sklearn.model_selection import train_test_split\n",
    "from sklearn.metrics import classification_report\n",
    "from sklearn.metrics import confusion_matrix\n",
    "from sklearn.metrics import accuracy_score"
   ]
  },
  {
   "cell_type": "code",
   "execution_count": 554,
   "metadata": {},
   "outputs": [],
   "source": [
    "# read all the data\n",
    "ccba = pd.read_csv('public_train_x_ccba_full_hashed.csv')\n",
    "cdtx = pd.read_csv('public_train_x_cdtx0001_full_hashed.csv')\n",
    "custinfo = pd.read_csv('public_train_x_custinfo_full_hashed.csv')\n",
    "dp = pd.read_csv('public_train_x_dp_full_hashed.csv')\n",
    "remit = pd.read_csv('public_train_x_remit1_full_hashed.csv')\n",
    "\n",
    "#use train answer and public answer\n",
    "public_x_alert_date = pd.read_csv('public_x_alert_date.csv')\n",
    "train_x_alert_date = pd.read_csv('train_x_alert_date.csv')\n",
    "alert_date = pd.concat([public_x_alert_date,train_x_alert_date])\n",
    "# print(alert_date.shape)\n",
    "\n",
    "public_y_answer = pd.read_csv('public_answer.csv')\n",
    "train_y_answer = pd.read_csv('train_y_answer.csv')\n",
    "y_answer = pd.concat([public_y_answer,train_y_answer])"
   ]
  },
  {
   "attachments": {},
   "cell_type": "markdown",
   "metadata": {},
   "source": [
    "## 觀察樣本 0 與 1 個數"
   ]
  },
  {
   "cell_type": "code",
   "execution_count": 555,
   "metadata": {},
   "outputs": [
    {
     "name": "stdout",
     "output_type": "stream",
     "text": [
      "       alert_key  sar_flag\n",
      "0         171189         0\n",
      "1         171202         0\n",
      "2         171599         0\n",
      "3         171737         0\n",
      "4         171142         0\n",
      "...          ...       ...\n",
      "23901     352132         0\n",
      "23902     352125         0\n",
      "23903     352080         0\n",
      "23904     352075         0\n",
      "23905     351927         0\n",
      "\n",
      "[23906 rows x 2 columns]\n",
      "0    23672\n",
      "1      234\n",
      "Name: sar_flag, dtype: int64\n"
     ]
    }
   ],
   "source": [
    "print(train_y_answer)\n",
    "print(train_y_answer['sar_flag'].value_counts())"
   ]
  },
  {
   "attachments": {},
   "cell_type": "markdown",
   "metadata": {},
   "source": [
    "## 資料平衡"
   ]
  },
  {
   "cell_type": "code",
   "execution_count": 556,
   "metadata": {},
   "outputs": [
    {
     "name": "stdout",
     "output_type": "stream",
     "text": [
      "0    23672\n",
      "1      234\n",
      "Name: sar_flag, dtype: int64\n",
      "       alert_key  sar_flag\n",
      "0         171189         0\n",
      "1         171202         0\n",
      "2         171599         0\n",
      "3         171737         0\n",
      "4         171142         0\n",
      "...          ...       ...\n",
      "23164     346021         1\n",
      "23308     347051         1\n",
      "23368     347894         1\n",
      "23572     348724         1\n",
      "23760     351367         1\n",
      "\n",
      "[23906 rows x 2 columns]\n"
     ]
    }
   ],
   "source": [
    "# sample 0 and 1 to balance way 1 (sample 10000)\n",
    "temp = train_y_answer.loc[train_y_answer['sar_flag'] == 0]\n",
    "temp2 = train_y_answer.loc[train_y_answer['sar_flag'] == 1]\n",
    "\n",
    "train_y_answer_resampled = pd.concat([temp,temp2])\n",
    "print(train_y_answer_resampled['sar_flag'].value_counts())\n",
    "print(train_y_answer_resampled)"
   ]
  },
  {
   "cell_type": "code",
   "execution_count": 557,
   "metadata": {},
   "outputs": [],
   "source": [
    "# # sample 0 and 1 to balance way 2 (OverSampler)\n",
    "# from imblearn.over_sampling import RandomOverSampler\n",
    "\n",
    "\n",
    "# temp = train_y_answer['alert_key'].array.reshape(-1, 1)\n",
    "# temp2 = train_y_answer['sar_flag'].array.reshape(-1, 1)\n",
    "\n",
    "# # Randomly over sample the minority class\n",
    "# ros = RandomOverSampler(random_state=42)\n",
    "# temp_ros, temp2_ros= ros.fit_resample(temp, temp2)\n",
    "# # Check the number of records after over sampling\n",
    "\n",
    "# train_y_answer_resampled = pd.DataFrame({\n",
    "#     'alert_key':temp_ros.flatten(),\n",
    "#     'sar_flag':temp2_ros.flatten()\n",
    "# })\n",
    "# print(train_y_answer_resampled)\n",
    "# print(train_y_answer_resampled['sar_flag'].value_counts())"
   ]
  },
  {
   "cell_type": "code",
   "execution_count": 558,
   "metadata": {},
   "outputs": [],
   "source": [
    "# # # sample 0 and 1 to balance way 3 (UnderSampler)\n",
    "# from imblearn.under_sampling import RandomUnderSampler\n",
    "\n",
    "# temp = train_y_answer['alert_key'].array.reshape(-1, 1)\n",
    "# temp2 = train_y_answer['sar_flag'].array.reshape(-1, 1)\n",
    "\n",
    "# rus = RandomUnderSampler(random_state=0)\n",
    "# temp_ros, temp2_ros= rus.fit_resample(temp, temp2)\n",
    "\n",
    "# train_y_answer_resampled = pd.DataFrame({\n",
    "#     'alert_key':temp_ros.flatten(),\n",
    "#     'sar_flag':temp2_ros.flatten()\n",
    "# })\n",
    "# print(train_y_answer_resampled)\n",
    "# print(train_y_answer_resampled['sar_flag'].value_counts())"
   ]
  },
  {
   "cell_type": "code",
   "execution_count": 559,
   "metadata": {},
   "outputs": [],
   "source": [
    "def check_csv(df):\n",
    "    print(df.head(),'\\n',\"shape = :\",df.shape)\n",
    "    print(df.isnull().sum())"
   ]
  },
  {
   "cell_type": "code",
   "execution_count": 560,
   "metadata": {},
   "outputs": [
    {
     "name": "stdout",
     "output_type": "stream",
     "text": [
      "   alert_key  date  sar_flag\n",
      "0     171189     0         0\n",
      "1     171202     0         0\n",
      "2     171599     0         0\n",
      "3     171737     0         0\n",
      "4     171142     0         0 \n",
      " shape = : (23906, 3)\n",
      "alert_key    0\n",
      "date         0\n",
      "sar_flag     0\n",
      "dtype: int64\n"
     ]
    }
   ],
   "source": [
    "df = pd.merge(alert_date,train_y_answer_resampled)\n",
    "\n",
    "check_csv(df)"
   ]
  },
  {
   "attachments": {},
   "cell_type": "markdown",
   "metadata": {},
   "source": [
    "## check every csv "
   ]
  },
  {
   "cell_type": "code",
   "execution_count": 561,
   "metadata": {},
   "outputs": [
    {
     "name": "stdout",
     "output_type": "stream",
     "text": [
      "                                             cust_id  lupay  byymm     cycam  \\\n",
      "0  0172056578071e83399216fcd640bdc4de4583149d0fd9...    0.0      0  152628.0   \n",
      "1  0172056578071e83399216fcd640bdc4de4583149d0fd9...    0.0     30  152628.0   \n",
      "2  0172056578071e83399216fcd640bdc4de4583149d0fd9...    0.0     61  152628.0   \n",
      "3  0172056578071e83399216fcd640bdc4de4583149d0fd9...    0.0     91  152628.0   \n",
      "4  0172056578071e83399216fcd640bdc4de4583149d0fd9...    0.0    122  152628.0   \n",
      "\n",
      "   usgam  clamt  csamt  inamt  cucsm  cucah  \n",
      "0    0.0    0.0    0.0    0.0    0.0    0.0  \n",
      "1    0.0    0.0    0.0    0.0    0.0    0.0  \n",
      "2    0.0    0.0    0.0    0.0    0.0    0.0  \n",
      "3    0.0    0.0    0.0    0.0    0.0    0.0  \n",
      "4    0.0    0.0    0.0    0.0    0.0    0.0   \n",
      " shape = : (59075, 10)\n",
      "cust_id    0\n",
      "lupay      0\n",
      "byymm      0\n",
      "cycam      0\n",
      "usgam      0\n",
      "clamt      0\n",
      "csamt      0\n",
      "inamt      0\n",
      "cucsm      0\n",
      "cucah      0\n",
      "dtype: int64\n"
     ]
    }
   ],
   "source": [
    "check_csv(ccba)"
   ]
  },
  {
   "cell_type": "code",
   "execution_count": 562,
   "metadata": {},
   "outputs": [
    {
     "name": "stdout",
     "output_type": "stream",
     "text": [
      "                                             cust_id  lupay  byymm     cycam  \\\n",
      "0  0172056578071e83399216fcd640bdc4de4583149d0fd9...    0.0      0  152628.0   \n",
      "1  0172056578071e83399216fcd640bdc4de4583149d0fd9...    0.0     30  152628.0   \n",
      "2  0172056578071e83399216fcd640bdc4de4583149d0fd9...    0.0     61  152628.0   \n",
      "3  0172056578071e83399216fcd640bdc4de4583149d0fd9...    0.0     91  152628.0   \n",
      "4  0172056578071e83399216fcd640bdc4de4583149d0fd9...    0.0    122  152628.0   \n",
      "\n",
      "   inamt  cucsm  \n",
      "0    0.0    0.0  \n",
      "1    0.0    0.0  \n",
      "2    0.0    0.0  \n",
      "3    0.0    0.0  \n",
      "4    0.0    0.0   \n",
      " shape = : (59075, 6)\n",
      "cust_id    0\n",
      "lupay      0\n",
      "byymm      0\n",
      "cycam      0\n",
      "inamt      0\n",
      "cucsm      0\n",
      "dtype: int64\n"
     ]
    }
   ],
   "source": [
    "temp = ccba.drop(['usgam','clamt','csamt','cucah'],axis=1)\n",
    "ccba = temp\n",
    "check_csv(ccba)"
   ]
  },
  {
   "cell_type": "code",
   "execution_count": 563,
   "metadata": {},
   "outputs": [
    {
     "name": "stdout",
     "output_type": "stream",
     "text": [
      "                                             cust_id  date  country  cur_type  \\\n",
      "0  0174dff6a8a2038f9966d61d8450e19e3bd751e4051c2a...     1      130        47   \n",
      "1  0174dff6a8a2038f9966d61d8450e19e3bd751e4051c2a...    10      130        47   \n",
      "2  0174dff6a8a2038f9966d61d8450e19e3bd751e4051c2a...    10      130        47   \n",
      "3  0174dff6a8a2038f9966d61d8450e19e3bd751e4051c2a...    13      130        47   \n",
      "4  0174dff6a8a2038f9966d61d8450e19e3bd751e4051c2a...    15      130        47   \n",
      "\n",
      "      amt  \n",
      "0  2312.0  \n",
      "1   808.0  \n",
      "2  7099.0  \n",
      "3   306.0  \n",
      "4   255.0   \n",
      " shape = : (1043014, 5)\n",
      "cust_id     0\n",
      "date        0\n",
      "country     0\n",
      "cur_type    0\n",
      "amt         0\n",
      "dtype: int64\n"
     ]
    }
   ],
   "source": [
    "check_csv(cdtx)"
   ]
  },
  {
   "cell_type": "code",
   "execution_count": 564,
   "metadata": {},
   "outputs": [
    {
     "name": "stdout",
     "output_type": "stream",
     "text": [
      "                                             cust_id  date  country  cur_type  \\\n",
      "0  0015cc01f553512007705edf855baa16f1b57a16fb107e...    21      130        47   \n",
      "1  0015cc01f553512007705edf855baa16f1b57a16fb107e...    52      130        47   \n",
      "2  0015cc01f553512007705edf855baa16f1b57a16fb107e...    56      130        47   \n",
      "3  0015cc01f553512007705edf855baa16f1b57a16fb107e...    59      130        47   \n",
      "4  0015cc01f553512007705edf855baa16f1b57a16fb107e...    62      130        47   \n",
      "\n",
      "       amt  \n",
      "0  13428.0  \n",
      "1    202.0  \n",
      "2   3624.0  \n",
      "3    175.0  \n",
      "4    128.0   \n",
      " shape = : (455436, 5)\n",
      "cust_id     0\n",
      "date        0\n",
      "country     0\n",
      "cur_type    0\n",
      "amt         0\n",
      "dtype: int64\n"
     ]
    }
   ],
   "source": [
    "# temp = cdtx.drop(['country','cur_type'],axis=1).groupby(['cust_id','date'],as_index=False)['amt'].sum()\n",
    "temp = cdtx.groupby(['cust_id','date','country','cur_type'],as_index=False)['amt'].sum()\n",
    "cdtx = temp\n",
    "check_csv(cdtx)"
   ]
  },
  {
   "cell_type": "code",
   "execution_count": 565,
   "metadata": {},
   "outputs": [
    {
     "name": "stdout",
     "output_type": "stream",
     "text": [
      "   alert_key                                            cust_id  risk_rank  \\\n",
      "0     352249  82595ac69158ae08d34156784bdec0d9e2ca5b242b6d2a...          1   \n",
      "1     352253  b212d14cb35676926682b2cf849e295d948888f556c07e...          1   \n",
      "2     352254  e5b0002791c7852644a2730abeaa893cdf14a072ef7812...          1   \n",
      "3     352280  74214c478dc6519fbefe4bc31693865bdcd698ab974b64...          3   \n",
      "4     352282  0340e7611f0d82c3cb87e6194fa14bb2ccf8afbf1b3418...          1   \n",
      "\n",
      "   occupation_code  total_asset  AGE  \n",
      "0             19.0    1465816.0    7  \n",
      "1              2.0      98177.0    2  \n",
      "2             19.0    2052922.0    7  \n",
      "3             15.0     201906.0    5  \n",
      "4             12.0       7450.0    5   \n",
      " shape = : (25751, 6)\n",
      "alert_key            0\n",
      "cust_id              0\n",
      "risk_rank            0\n",
      "occupation_code    116\n",
      "total_asset          0\n",
      "AGE                  0\n",
      "dtype: int64\n"
     ]
    }
   ],
   "source": [
    "check_csv(custinfo)"
   ]
  },
  {
   "cell_type": "code",
   "execution_count": 566,
   "metadata": {},
   "outputs": [
    {
     "name": "stdout",
     "output_type": "stream",
     "text": [
      "   alert_key                                            cust_id  risk_rank  \\\n",
      "0     352249  82595ac69158ae08d34156784bdec0d9e2ca5b242b6d2a...          1   \n",
      "1     352253  b212d14cb35676926682b2cf849e295d948888f556c07e...          1   \n",
      "2     352254  e5b0002791c7852644a2730abeaa893cdf14a072ef7812...          1   \n",
      "3     352280  74214c478dc6519fbefe4bc31693865bdcd698ab974b64...          3   \n",
      "4     352282  0340e7611f0d82c3cb87e6194fa14bb2ccf8afbf1b3418...          1   \n",
      "\n",
      "   total_asset  \n",
      "0    1465816.0  \n",
      "1      98177.0  \n",
      "2    2052922.0  \n",
      "3     201906.0  \n",
      "4       7450.0   \n",
      " shape = : (25751, 4)\n",
      "alert_key      0\n",
      "cust_id        0\n",
      "risk_rank      0\n",
      "total_asset    0\n",
      "dtype: int64\n"
     ]
    }
   ],
   "source": [
    "temp = custinfo.drop(['occupation_code','AGE'],axis=1)\n",
    "custinfo = temp\n",
    "check_csv(custinfo)"
   ]
  },
  {
   "cell_type": "code",
   "execution_count": 567,
   "metadata": {},
   "outputs": [
    {
     "name": "stdout",
     "output_type": "stream",
     "text": [
      "                                             cust_id debit_credit  tx_date  \\\n",
      "0  0172056578071e83399216fcd640bdc4de4583149d0fd9...           CR       36   \n",
      "1  0172056578071e83399216fcd640bdc4de4583149d0fd9...           CR       42   \n",
      "2  0172056578071e83399216fcd640bdc4de4583149d0fd9...           CR       39   \n",
      "3  0172056578071e83399216fcd640bdc4de4583149d0fd9...           CR       49   \n",
      "4  0172056578071e83399216fcd640bdc4de4583149d0fd9...           CR       70   \n",
      "\n",
      "   tx_time  tx_type    tx_amt  exchg_rate  info_asset_code  fiscTxId  \\\n",
      "0       18        2   68265.0         1.0               16       NaN   \n",
      "1       17        2  932058.0         1.0               16       NaN   \n",
      "2       18        2    6089.0         1.0               16       NaN   \n",
      "3       15        2  776715.0         1.0               16       NaN   \n",
      "4       19        2   61630.0         1.0               16       NaN   \n",
      "\n",
      "   txbranch  cross_bank  ATM  \n",
      "0       NaN           0    0  \n",
      "1       NaN           0    0  \n",
      "2       NaN           0    0  \n",
      "3       NaN           0    0  \n",
      "4       NaN           0    0   \n",
      " shape = : (1969818, 12)\n",
      "cust_id                  0\n",
      "debit_credit             0\n",
      "tx_date                  0\n",
      "tx_time                  0\n",
      "tx_type                  0\n",
      "tx_amt               22015\n",
      "exchg_rate               0\n",
      "info_asset_code          0\n",
      "fiscTxId           1043090\n",
      "txbranch           1003150\n",
      "cross_bank               0\n",
      "ATM                      0\n",
      "dtype: int64\n"
     ]
    }
   ],
   "source": [
    "check_csv(dp)"
   ]
  },
  {
   "cell_type": "code",
   "execution_count": 568,
   "metadata": {},
   "outputs": [
    {
     "name": "stdout",
     "output_type": "stream",
     "text": [
      "                                             cust_id debit_credit  tx_date  \\\n",
      "0  0172056578071e83399216fcd640bdc4de4583149d0fd9...           CR       36   \n",
      "1  0172056578071e83399216fcd640bdc4de4583149d0fd9...           CR       42   \n",
      "2  0172056578071e83399216fcd640bdc4de4583149d0fd9...           CR       39   \n",
      "3  0172056578071e83399216fcd640bdc4de4583149d0fd9...           CR       49   \n",
      "4  0172056578071e83399216fcd640bdc4de4583149d0fd9...           CR       70   \n",
      "\n",
      "   tx_type    tx_amt  info_asset_code  cross_bank  ATM  \n",
      "0        2   68265.0               16           0    0  \n",
      "1        2  932058.0               16           0    0  \n",
      "2        2    6089.0               16           0    0  \n",
      "3        2  776715.0               16           0    0  \n",
      "4        2   61630.0               16           0    0   \n",
      " shape = : (1947803, 8)\n",
      "cust_id            0\n",
      "debit_credit       0\n",
      "tx_date            0\n",
      "tx_type            0\n",
      "tx_amt             0\n",
      "info_asset_code    0\n",
      "cross_bank         0\n",
      "ATM                0\n",
      "dtype: int64\n"
     ]
    }
   ],
   "source": [
    "# too many Nan in 'fiscTxId' and 'txbranch' so we drop them\n",
    "temp = dp.drop(['tx_time','exchg_rate','fiscTxId','txbranch'],axis=1)\n",
    "temp.dropna(axis='index',inplace=True)\n",
    "# then we drop columns\n",
    "# 當天交易總額\n",
    "temp.groupby(['cust_id','tx_date'])['tx_amt'].sum()\n",
    "dp = temp\n",
    "check_csv(dp)"
   ]
  },
  {
   "cell_type": "code",
   "execution_count": 569,
   "metadata": {},
   "outputs": [
    {
     "name": "stdout",
     "output_type": "stream",
     "text": [
      "                                             cust_id  trans_date  trans_no  \\\n",
      "0  01b1735c3dbf0a35c1c989bb45434ce4326b365b73db06...         148         0   \n",
      "1  01b1735c3dbf0a35c1c989bb45434ce4326b365b73db06...         165         0   \n",
      "2  01b1735c3dbf0a35c1c989bb45434ce4326b365b73db06...         231         0   \n",
      "3  01b1735c3dbf0a35c1c989bb45434ce4326b365b73db06...         291         0   \n",
      "4  01b1735c3dbf0a35c1c989bb45434ce4326b365b73db06...         389         0   \n",
      "\n",
      "   trade_amount_usd  \n",
      "0          100528.0  \n",
      "1          100528.0  \n",
      "2           89479.0  \n",
      "3          100528.0  \n",
      "4           30158.0   \n",
      " shape = : (17167, 4)\n",
      "cust_id             0\n",
      "trans_date          0\n",
      "trans_no            0\n",
      "trade_amount_usd    0\n",
      "dtype: int64\n"
     ]
    }
   ],
   "source": [
    "check_csv(remit)"
   ]
  },
  {
   "cell_type": "code",
   "execution_count": 570,
   "metadata": {},
   "outputs": [
    {
     "name": "stdout",
     "output_type": "stream",
     "text": [
      "                                             cust_id  trans_date  \\\n",
      "0  002f13f534d0bd9fcc1848db3ff5c7b1179d117f8de805...         153   \n",
      "1  0032adaf4a8731b4d6a3fdcba32f9ebdcd336490eda155...         223   \n",
      "2  0032adaf4a8731b4d6a3fdcba32f9ebdcd336490eda155...         312   \n",
      "3  0032adaf4a8731b4d6a3fdcba32f9ebdcd336490eda155...         328   \n",
      "4  0032adaf4a8731b4d6a3fdcba32f9ebdcd336490eda155...         356   \n",
      "\n",
      "   trade_amount_usd  \n",
      "0          343647.0  \n",
      "1            6071.0  \n",
      "2           60024.0  \n",
      "3          531413.0  \n",
      "4            2109.0   \n",
      " shape = : (15413, 3)\n",
      "cust_id             0\n",
      "trans_date          0\n",
      "trade_amount_usd    0\n",
      "dtype: int64\n"
     ]
    }
   ],
   "source": [
    "# temp = remit.drop(['trans_no'],axis=1)\n",
    "temp = remit\n",
    "#交易總額\n",
    "temp = temp.groupby(['cust_id','trans_date'],as_index=False)['trade_amount_usd'].sum()\n",
    "remit = temp\n",
    "check_csv(remit)"
   ]
  },
  {
   "attachments": {},
   "cell_type": "markdown",
   "metadata": {},
   "source": [
    "## Merge csv"
   ]
  },
  {
   "cell_type": "code",
   "execution_count": 571,
   "metadata": {},
   "outputs": [
    {
     "name": "stdout",
     "output_type": "stream",
     "text": [
      "   alert_key  date  sar_flag  \\\n",
      "0     171189     0         0   \n",
      "1     171189     0         0   \n",
      "2     171189     0         0   \n",
      "3     171202     0         0   \n",
      "4     171202     0         0   \n",
      "\n",
      "                                             cust_id  risk_rank  total_asset  \\\n",
      "0  972ee157e63316e8a50dd489bc93730a3ee8a8959d5c6b...          1     375576.0   \n",
      "1  972ee157e63316e8a50dd489bc93730a3ee8a8959d5c6b...          1     375576.0   \n",
      "2  972ee157e63316e8a50dd489bc93730a3ee8a8959d5c6b...          1     375576.0   \n",
      "3  a10ab33f90926fb18d7bb5e78034d7f04a1fbed95b7951...          3    2717416.0   \n",
      "4  a10ab33f90926fb18d7bb5e78034d7f04a1fbed95b7951...          3    2717416.0   \n",
      "\n",
      "     lupay     cycam  inamt     cucsm  ...  cur_type    amt  tx_type   tx_amt  \\\n",
      "0  85428.0  301224.0    0.0  151434.0  ...      47.0  673.0      2.0    309.0   \n",
      "1  85428.0  301224.0    0.0  151434.0  ...      47.0  673.0      2.0   1020.0   \n",
      "2  85428.0  301224.0    0.0  151434.0  ...      47.0  673.0      2.0    186.0   \n",
      "3      0.0       0.0    0.0       0.0  ...       0.0    0.0      1.0  20920.0   \n",
      "4      0.0       0.0    0.0       0.0  ...       0.0    0.0      3.0  31380.0   \n",
      "\n",
      "   info_asset_code  cross_bank  ATM  debit_credit_CR  debit_credit_DB  \\\n",
      "0              1.0         0.0  1.0                0                1   \n",
      "1              1.0         0.0  1.0                0                1   \n",
      "2              1.0         0.0  1.0                0                1   \n",
      "3             12.0         0.0  0.0                0                1   \n",
      "4             16.0         0.0  0.0                1                0   \n",
      "\n",
      "   trade_amount_usd  \n",
      "0               0.0  \n",
      "1               0.0  \n",
      "2               0.0  \n",
      "3               0.0  \n",
      "4               0.0  \n",
      "\n",
      "[5 rows x 21 columns] \n",
      " shape = : (182997, 21)\n",
      "alert_key           0\n",
      "date                0\n",
      "sar_flag            0\n",
      "cust_id             0\n",
      "risk_rank           0\n",
      "total_asset         0\n",
      "lupay               0\n",
      "cycam               0\n",
      "inamt               0\n",
      "cucsm               0\n",
      "country             0\n",
      "cur_type            0\n",
      "amt                 0\n",
      "tx_type             0\n",
      "tx_amt              0\n",
      "info_asset_code     0\n",
      "cross_bank          0\n",
      "ATM                 0\n",
      "debit_credit_CR     0\n",
      "debit_credit_DB     0\n",
      "trade_amount_usd    0\n",
      "dtype: int64\n"
     ]
    }
   ],
   "source": [
    "def merge_csv(df):\n",
    "    # merge custinfo to get alert_key with custid and get more information\n",
    "    df = pd.merge(df,custinfo,on='alert_key',how='left')\n",
    "    # print(df.head(),'\\n',df.shape)\n",
    "    # print(df.isnull().sum())\n",
    "\n",
    "    # merge ccba on cust_id and date\n",
    "    temp = pd.merge(df,ccba.rename(columns={'byymm':'date'}),on=['cust_id','date'],how='left')\n",
    "    # print(temp.head(),'\\n',temp.shape)\n",
    "    # print(temp.isnull().sum())\n",
    "    df = temp\n",
    "\n",
    "    # merge cdtx on cust_id and date\n",
    "    temp = pd.merge(df,cdtx,on=['cust_id','date'],how='left')\n",
    "    df = temp\n",
    "\n",
    "    # merge dp on cust_id and date\n",
    "    temp = pd.merge(df,dp.rename(columns={'tx_date':'date'}),on=['cust_id','date'],how='left')\n",
    "    #turn 'debit_credit' into dummy variables\n",
    "    temp = pd.get_dummies(temp, columns=['debit_credit'])\n",
    "    df = temp\n",
    "\n",
    "    # merge remit on cust_id and date\n",
    "    temp = pd.merge(df,remit.rename(columns={'trans_date':'date'}),on=['cust_id','date'],how='left')\n",
    "    df = temp\n",
    "\n",
    "    # fill all Nan\n",
    "    df.fillna(0,inplace=True)\n",
    "    # print(df.head(),'\\n',df.shape)\n",
    "    # print(df.isnull().sum())\n",
    "    \n",
    "    return df\n",
    "\n",
    "df = merge_csv(df)\n",
    "check_csv(df)"
   ]
  },
  {
   "attachments": {},
   "cell_type": "markdown",
   "metadata": {},
   "source": [
    "## 檢查是否保留住所有alert_key"
   ]
  },
  {
   "cell_type": "code",
   "execution_count": 572,
   "metadata": {},
   "outputs": [
    {
     "name": "stdout",
     "output_type": "stream",
     "text": [
      "shape of 'df': (182997, 21)\n",
      "shape of 'df.groupby('alert_key').first()': (23906, 20)\n"
     ]
    }
   ],
   "source": [
    "print(\"shape of 'df':\",df.shape)\n",
    "print(\"shape of 'df.groupby('alert_key').first()':\",df.groupby('alert_key').first().shape)"
   ]
  },
  {
   "attachments": {},
   "cell_type": "markdown",
   "metadata": {},
   "source": [
    "## Print Correlation Matrix"
   ]
  },
  {
   "cell_type": "code",
   "execution_count": 573,
   "metadata": {},
   "outputs": [
    {
     "data": {
      "text/plain": [
       "<AxesSubplot:title={'center':'Correlation Matrix'}>"
      ]
     },
     "execution_count": 573,
     "metadata": {},
     "output_type": "execute_result"
    },
    {
     "data": {
      "image/png": "[encoded data removed]",
      "text/plain": [
       "<Figure size 936x936 with 2 Axes>"
      ]
     },
     "metadata": {
      "needs_background": "light"
     },
     "output_type": "display_data"
    }
   ],
   "source": [
    "correlation = df.corr()\n",
    "plt.figure(figsize=(13,13))\n",
    "plt.title('Correlation Matrix')\n",
    "sns.heatmap(correlation, vmax=1, square=True,annot=True,cmap='cubehelix')"
   ]
  },
  {
   "attachments": {},
   "cell_type": "markdown",
   "metadata": {},
   "source": [
    "## 訓練資料處理"
   ]
  },
  {
   "cell_type": "code",
   "execution_count": 574,
   "metadata": {},
   "outputs": [],
   "source": [
    "# drop 'cust_id' and 'alert_key'\n",
    "X_ak = df['alert_key']\n",
    "df.drop(['cust_id','alert_key'],axis=1,inplace=True)\n",
    "\n",
    "# train test split\n",
    "X = df.drop(['sar_flag'], axis=1)\n",
    "Y = df['sar_flag']\n",
    "\n",
    "from sklearn import preprocessing\n",
    "#Feature Normalization\n",
    "minmax_scale = preprocessing.MinMaxScaler(feature_range=(0,1))\n",
    "X=minmax_scale.fit_transform(X)"
   ]
  },
  {
   "attachments": {},
   "cell_type": "markdown",
   "metadata": {},
   "source": [
    "## 模型精準度測試"
   ]
  },
  {
   "cell_type": "code",
   "execution_count": 575,
   "metadata": {},
   "outputs": [],
   "source": [
    "from sklearn import metrics\n",
    "def print_acc(expected,predicted):\n",
    "    print(metrics.classification_report(expected,predicted))\n",
    "    print(metrics.confusion_matrix(expected, predicted))\n",
    "    accuracy = accuracy_score(expected, predicted)\n",
    "    print(\"Accuracy: %.2f%%\" % (accuracy * 100.0))\n",
    "\n",
    "    # print(\"Average = macro\")\n",
    "    print('precision:',metrics.precision_score(expected, predicted,average='macro')) \n",
    "    print('recall:',metrics.recall_score(expected, predicted,average='macro'))\n",
    "    print('F1-score:',metrics.f1_score(expected, predicted,average='macro'))"
   ]
  },
  {
   "attachments": {},
   "cell_type": "markdown",
   "metadata": {},
   "source": [
    "## 直接call model"
   ]
  },
  {
   "cell_type": "code",
   "execution_count": 576,
   "metadata": {},
   "outputs": [],
   "source": [
    "\n",
    "# from sklearn.multiclass import OneVsRestClassifier\n",
    "# from sklearn.svm import SVC\n",
    "# from sklearn.model_selection import KFold\n",
    "\n",
    "# # kfold = KFold(10)\n",
    "# model = OneVsRestClassifier(SVC(gamma='auto',kernel='sigmoid',max_iter=50,probability=True,verbose=True))\n",
    "\n",
    "# for train,valid in kfold.split(df):\n",
    "#     X_train = X.iloc[train]\n",
    "#     Y_train = Y.iloc[train]\n",
    "\n",
    "# model.fit(X,Y)\n"
   ]
  },
  {
   "cell_type": "code",
   "execution_count": 577,
   "metadata": {},
   "outputs": [],
   "source": [
    "# predicted = model.predict(X).round(7)\n",
    "# print_acc(Y,predicted)"
   ]
  },
  {
   "attachments": {},
   "cell_type": "markdown",
   "metadata": {},
   "source": [
    "## 自己兜一個model"
   ]
  },
  {
   "cell_type": "code",
   "execution_count": 578,
   "metadata": {},
   "outputs": [],
   "source": [
    "X_train, X_valid, Y_train, Y_valid = train_test_split(X, Y, test_size=0.05, random_state=42)\n",
    "\n",
    "# X_train,Y_train = SMOTE(random_state=42).fit_resample(X_train,Y_train)"
   ]
  },
  {
   "cell_type": "code",
   "execution_count": 579,
   "metadata": {},
   "outputs": [
    {
     "name": "stdout",
     "output_type": "stream",
     "text": [
      "Epoch 1/100\n",
      "472/501 [===========================>..] - ETA: 0s - loss: 0.0965 - accuracy: 0.9835\n",
      "Epoch 1: loss improved from inf to 0.09483, saving model to fourth_try_weights_best.hdf5\n",
      "501/501 [==============================] - 2s 2ms/step - loss: 0.0948 - accuracy: 0.9836\n",
      "Epoch 2/100\n",
      "481/501 [===========================>..] - ETA: 0s - loss: 0.0716 - accuracy: 0.9835\n",
      "Epoch 2: loss improved from 0.09483 to 0.07138, saving model to fourth_try_weights_best.hdf5\n",
      "501/501 [==============================] - 1s 2ms/step - loss: 0.0714 - accuracy: 0.9836\n",
      "Epoch 3/100\n",
      "477/501 [===========================>..] - ETA: 0s - loss: 0.0694 - accuracy: 0.9837\n",
      "Epoch 3: loss improved from 0.07138 to 0.06967, saving model to fourth_try_weights_best.hdf5\n",
      "501/501 [==============================] - 1s 1ms/step - loss: 0.0697 - accuracy: 0.9836\n",
      "Epoch 4/100\n",
      "480/501 [===========================>..] - ETA: 0s - loss: 0.0682 - accuracy: 0.9837\n",
      "Epoch 4: loss improved from 0.06967 to 0.06838, saving model to fourth_try_weights_best.hdf5\n",
      "501/501 [==============================] - 1s 1ms/step - loss: 0.0684 - accuracy: 0.9836\n",
      "Epoch 5/100\n",
      "483/501 [===========================>..] - ETA: 0s - loss: 0.0672 - accuracy: 0.9836\n",
      "Epoch 5: loss improved from 0.06838 to 0.06726, saving model to fourth_try_weights_best.hdf5\n",
      "501/501 [==============================] - 1s 2ms/step - loss: 0.0673 - accuracy: 0.9836\n",
      "Epoch 6/100\n",
      "485/501 [============================>.] - ETA: 0s - loss: 0.0666 - accuracy: 0.9836\n",
      "Epoch 6: loss improved from 0.06726 to 0.06650, saving model to fourth_try_weights_best.hdf5\n",
      "501/501 [==============================] - 1s 2ms/step - loss: 0.0665 - accuracy: 0.9836\n",
      "Epoch 7/100\n",
      "493/501 [============================>.] - ETA: 0s - loss: 0.0657 - accuracy: 0.9836\n",
      "Epoch 7: loss improved from 0.06650 to 0.06589, saving model to fourth_try_weights_best.hdf5\n",
      "501/501 [==============================] - 1s 2ms/step - loss: 0.0659 - accuracy: 0.9836\n",
      "Epoch 8/100\n",
      "486/501 [============================>.] - ETA: 0s - loss: 0.0653 - accuracy: 0.9836\n",
      "Epoch 8: loss improved from 0.06589 to 0.06523, saving model to fourth_try_weights_best.hdf5\n",
      "501/501 [==============================] - 1s 2ms/step - loss: 0.0652 - accuracy: 0.9836\n",
      "Epoch 9/100\n",
      "496/501 [============================>.] - ETA: 0s - loss: 0.0647 - accuracy: 0.9836\n",
      "Epoch 9: loss improved from 0.06523 to 0.06468, saving model to fourth_try_weights_best.hdf5\n",
      "501/501 [==============================] - 1s 2ms/step - loss: 0.0647 - accuracy: 0.9836\n",
      "Epoch 10/100\n",
      "480/501 [===========================>..] - ETA: 0s - loss: 0.0639 - accuracy: 0.9836\n",
      "Epoch 10: loss improved from 0.06468 to 0.06394, saving model to fourth_try_weights_best.hdf5\n",
      "501/501 [==============================] - 1s 2ms/step - loss: 0.0639 - accuracy: 0.9836\n",
      "Epoch 11/100\n",
      "498/501 [============================>.] - ETA: 0s - loss: 0.0632 - accuracy: 0.9836\n",
      "Epoch 11: loss improved from 0.06394 to 0.06310, saving model to fourth_try_weights_best.hdf5\n",
      "501/501 [==============================] - 1s 2ms/step - loss: 0.0631 - accuracy: 0.9836\n",
      "Epoch 12/100\n",
      "481/501 [===========================>..] - ETA: 0s - loss: 0.0618 - accuracy: 0.9835\n",
      "Epoch 12: loss improved from 0.06310 to 0.06160, saving model to fourth_try_weights_best.hdf5\n",
      "501/501 [==============================] - 1s 2ms/step - loss: 0.0616 - accuracy: 0.9836\n",
      "Epoch 13/100\n",
      "473/501 [===========================>..] - ETA: 0s - loss: 0.0605 - accuracy: 0.9836\n",
      "Epoch 13: loss improved from 0.06160 to 0.06049, saving model to fourth_try_weights_best.hdf5\n",
      "501/501 [==============================] - 1s 1ms/step - loss: 0.0605 - accuracy: 0.9836\n",
      "Epoch 14/100\n",
      "477/501 [===========================>..] - ETA: 0s - loss: 0.0589 - accuracy: 0.9837\n",
      "Epoch 14: loss improved from 0.06049 to 0.05924, saving model to fourth_try_weights_best.hdf5\n",
      "501/501 [==============================] - 1s 1ms/step - loss: 0.0592 - accuracy: 0.9836\n",
      "Epoch 15/100\n",
      "470/501 [===========================>..] - ETA: 0s - loss: 0.0583 - accuracy: 0.9838\n",
      "Epoch 15: loss improved from 0.05924 to 0.05817, saving model to fourth_try_weights_best.hdf5\n",
      "501/501 [==============================] - 1s 1ms/step - loss: 0.0582 - accuracy: 0.9838\n",
      "Epoch 16/100\n",
      "469/501 [===========================>..] - ETA: 0s - loss: 0.0573 - accuracy: 0.9838\n",
      "Epoch 16: loss improved from 0.05817 to 0.05720, saving model to fourth_try_weights_best.hdf5\n",
      "501/501 [==============================] - 1s 1ms/step - loss: 0.0572 - accuracy: 0.9838\n",
      "Epoch 17/100\n",
      "473/501 [===========================>..] - ETA: 0s - loss: 0.0562 - accuracy: 0.9840\n",
      "Epoch 17: loss improved from 0.05720 to 0.05609, saving model to fourth_try_weights_best.hdf5\n",
      "501/501 [==============================] - 1s 1ms/step - loss: 0.0561 - accuracy: 0.9840\n",
      "Epoch 18/100\n",
      "476/501 [===========================>..] - ETA: 0s - loss: 0.0552 - accuracy: 0.9843\n",
      "Epoch 18: loss improved from 0.05609 to 0.05518, saving model to fourth_try_weights_best.hdf5\n",
      "501/501 [==============================] - 1s 1ms/step - loss: 0.0552 - accuracy: 0.9842\n",
      "Epoch 19/100\n",
      "486/501 [============================>.] - ETA: 0s - loss: 0.0549 - accuracy: 0.9843\n",
      "Epoch 19: loss improved from 0.05518 to 0.05465, saving model to fourth_try_weights_best.hdf5\n",
      "501/501 [==============================] - 1s 2ms/step - loss: 0.0546 - accuracy: 0.9843\n",
      "Epoch 20/100\n",
      "499/501 [============================>.] - ETA: 0s - loss: 0.0540 - accuracy: 0.9845\n",
      "Epoch 20: loss improved from 0.05465 to 0.05400, saving model to fourth_try_weights_best.hdf5\n",
      "501/501 [==============================] - 1s 2ms/step - loss: 0.0540 - accuracy: 0.9845\n",
      "Epoch 21/100\n",
      "484/501 [===========================>..] - ETA: 0s - loss: 0.0534 - accuracy: 0.9847\n",
      "Epoch 21: loss improved from 0.05400 to 0.05327, saving model to fourth_try_weights_best.hdf5\n",
      "501/501 [==============================] - 1s 2ms/step - loss: 0.0533 - accuracy: 0.9847\n",
      "Epoch 22/100\n",
      "482/501 [===========================>..] - ETA: 0s - loss: 0.0524 - accuracy: 0.9849\n",
      "Epoch 22: loss improved from 0.05327 to 0.05240, saving model to fourth_try_weights_best.hdf5\n",
      "501/501 [==============================] - 1s 2ms/step - loss: 0.0524 - accuracy: 0.9849\n",
      "Epoch 23/100\n",
      "480/501 [===========================>..] - ETA: 0s - loss: 0.0517 - accuracy: 0.9852\n",
      "Epoch 23: loss improved from 0.05240 to 0.05174, saving model to fourth_try_weights_best.hdf5\n",
      "501/501 [==============================] - 1s 2ms/step - loss: 0.0517 - accuracy: 0.9852\n",
      "Epoch 24/100\n",
      "496/501 [============================>.] - ETA: 0s - loss: 0.0514 - accuracy: 0.9854\n",
      "Epoch 24: loss improved from 0.05174 to 0.05143, saving model to fourth_try_weights_best.hdf5\n",
      "501/501 [==============================] - 1s 2ms/step - loss: 0.0514 - accuracy: 0.9854\n",
      "Epoch 25/100\n",
      "472/501 [===========================>..] - ETA: 0s - loss: 0.0510 - accuracy: 0.9854\n",
      "Epoch 25: loss improved from 0.05143 to 0.05098, saving model to fourth_try_weights_best.hdf5\n",
      "501/501 [==============================] - 1s 2ms/step - loss: 0.0510 - accuracy: 0.9854\n",
      "Epoch 26/100\n",
      "478/501 [===========================>..] - ETA: 0s - loss: 0.0501 - accuracy: 0.9856\n",
      "Epoch 26: loss improved from 0.05098 to 0.05019, saving model to fourth_try_weights_best.hdf5\n",
      "501/501 [==============================] - 1s 2ms/step - loss: 0.0502 - accuracy: 0.9857\n",
      "Epoch 27/100\n",
      "497/501 [============================>.] - ETA: 0s - loss: 0.0497 - accuracy: 0.9858\n",
      "Epoch 27: loss improved from 0.05019 to 0.04976, saving model to fourth_try_weights_best.hdf5\n",
      "501/501 [==============================] - 1s 1ms/step - loss: 0.0498 - accuracy: 0.9858\n",
      "Epoch 28/100\n",
      "470/501 [===========================>..] - ETA: 0s - loss: 0.0491 - accuracy: 0.9859\n",
      "Epoch 28: loss improved from 0.04976 to 0.04919, saving model to fourth_try_weights_best.hdf5\n",
      "501/501 [==============================] - 1s 1ms/step - loss: 0.0492 - accuracy: 0.9859\n",
      "Epoch 29/100\n",
      "471/501 [===========================>..] - ETA: 0s - loss: 0.0491 - accuracy: 0.9860\n",
      "Epoch 29: loss improved from 0.04919 to 0.04904, saving model to fourth_try_weights_best.hdf5\n",
      "501/501 [==============================] - 1s 1ms/step - loss: 0.0490 - accuracy: 0.9860\n",
      "Epoch 30/100\n",
      "472/501 [===========================>..] - ETA: 0s - loss: 0.0485 - accuracy: 0.9861\n",
      "Epoch 30: loss improved from 0.04904 to 0.04857, saving model to fourth_try_weights_best.hdf5\n",
      "501/501 [==============================] - 1s 1ms/step - loss: 0.0486 - accuracy: 0.9861\n",
      "Epoch 31/100\n",
      "490/501 [============================>.] - ETA: 0s - loss: 0.0481 - accuracy: 0.9863\n",
      "Epoch 31: loss improved from 0.04857 to 0.04817, saving model to fourth_try_weights_best.hdf5\n",
      "501/501 [==============================] - 1s 1ms/step - loss: 0.0482 - accuracy: 0.9863\n",
      "Epoch 32/100\n",
      "496/501 [============================>.] - ETA: 0s - loss: 0.0478 - accuracy: 0.9864\n",
      "Epoch 32: loss improved from 0.04817 to 0.04773, saving model to fourth_try_weights_best.hdf5\n",
      "501/501 [==============================] - 1s 2ms/step - loss: 0.0477 - accuracy: 0.9864\n",
      "Epoch 33/100\n",
      "481/501 [===========================>..] - ETA: 0s - loss: 0.0481 - accuracy: 0.9862\n",
      "Epoch 33: loss did not improve from 0.04773\n",
      "501/501 [==============================] - 1s 1ms/step - loss: 0.0478 - accuracy: 0.9864\n",
      "Epoch 34/100\n",
      "486/501 [============================>.] - ETA: 0s - loss: 0.0477 - accuracy: 0.9864\n",
      "Epoch 34: loss improved from 0.04773 to 0.04743, saving model to fourth_try_weights_best.hdf5\n",
      "501/501 [==============================] - 1s 2ms/step - loss: 0.0474 - accuracy: 0.9865\n",
      "Epoch 35/100\n",
      "469/501 [===========================>..] - ETA: 0s - loss: 0.0468 - accuracy: 0.9866\n",
      "Epoch 35: loss improved from 0.04743 to 0.04704, saving model to fourth_try_weights_best.hdf5\n",
      "501/501 [==============================] - 1s 2ms/step - loss: 0.0470 - accuracy: 0.9866\n",
      "Epoch 36/100\n",
      "498/501 [============================>.] - ETA: 0s - loss: 0.0470 - accuracy: 0.9866\n",
      "Epoch 36: loss improved from 0.04704 to 0.04701, saving model to fourth_try_weights_best.hdf5\n",
      "501/501 [==============================] - 1s 2ms/step - loss: 0.0470 - accuracy: 0.9866\n",
      "Epoch 37/100\n",
      "492/501 [============================>.] - ETA: 0s - loss: 0.0466 - accuracy: 0.9868\n",
      "Epoch 37: loss improved from 0.04701 to 0.04653, saving model to fourth_try_weights_best.hdf5\n",
      "501/501 [==============================] - 1s 2ms/step - loss: 0.0465 - accuracy: 0.9867\n",
      "Epoch 38/100\n",
      "495/501 [============================>.] - ETA: 0s - loss: 0.0462 - accuracy: 0.9867\n",
      "Epoch 38: loss improved from 0.04653 to 0.04620, saving model to fourth_try_weights_best.hdf5\n",
      "501/501 [==============================] - 1s 2ms/step - loss: 0.0462 - accuracy: 0.9867\n",
      "Epoch 39/100\n",
      "494/501 [============================>.] - ETA: 0s - loss: 0.0460 - accuracy: 0.9868\n",
      "Epoch 39: loss improved from 0.04620 to 0.04595, saving model to fourth_try_weights_best.hdf5\n",
      "501/501 [==============================] - 1s 2ms/step - loss: 0.0459 - accuracy: 0.9868\n",
      "Epoch 40/100\n",
      "481/501 [===========================>..] - ETA: 0s - loss: 0.0459 - accuracy: 0.9867\n",
      "Epoch 40: loss did not improve from 0.04595\n",
      "501/501 [==============================] - 1s 2ms/step - loss: 0.0460 - accuracy: 0.9866\n",
      "Epoch 41/100\n",
      "484/501 [===========================>..] - ETA: 0s - loss: 0.0454 - accuracy: 0.9870\n",
      "Epoch 41: loss improved from 0.04595 to 0.04542, saving model to fourth_try_weights_best.hdf5\n",
      "501/501 [==============================] - 1s 2ms/step - loss: 0.0454 - accuracy: 0.9870\n",
      "Epoch 42/100\n",
      "495/501 [============================>.] - ETA: 0s - loss: 0.0449 - accuracy: 0.9870\n",
      "Epoch 42: loss improved from 0.04542 to 0.04515, saving model to fourth_try_weights_best.hdf5\n",
      "501/501 [==============================] - 1s 2ms/step - loss: 0.0452 - accuracy: 0.9869\n",
      "Epoch 43/100\n",
      "499/501 [============================>.] - ETA: 0s - loss: 0.0454 - accuracy: 0.9869\n",
      "Epoch 43: loss did not improve from 0.04515\n",
      "501/501 [==============================] - 1s 2ms/step - loss: 0.0454 - accuracy: 0.9869\n",
      "Epoch 44/100\n",
      "473/501 [===========================>..] - ETA: 0s - loss: 0.0449 - accuracy: 0.9870\n",
      "Epoch 44: loss improved from 0.04515 to 0.04509, saving model to fourth_try_weights_best.hdf5\n",
      "501/501 [==============================] - 1s 2ms/step - loss: 0.0451 - accuracy: 0.9870\n",
      "Epoch 45/100\n",
      "472/501 [===========================>..] - ETA: 0s - loss: 0.0447 - accuracy: 0.9870\n",
      "Epoch 45: loss improved from 0.04509 to 0.04473, saving model to fourth_try_weights_best.hdf5\n",
      "501/501 [==============================] - 1s 1ms/step - loss: 0.0447 - accuracy: 0.9870\n",
      "Epoch 46/100\n",
      "472/501 [===========================>..] - ETA: 0s - loss: 0.0446 - accuracy: 0.9870\n",
      "Epoch 46: loss improved from 0.04473 to 0.04471, saving model to fourth_try_weights_best.hdf5\n",
      "501/501 [==============================] - 1s 1ms/step - loss: 0.0447 - accuracy: 0.9870\n",
      "Epoch 47/100\n",
      "497/501 [============================>.] - ETA: 0s - loss: 0.0443 - accuracy: 0.9871\n",
      "Epoch 47: loss improved from 0.04471 to 0.04430, saving model to fourth_try_weights_best.hdf5\n",
      "501/501 [==============================] - 1s 1ms/step - loss: 0.0443 - accuracy: 0.9871\n",
      "Epoch 48/100\n",
      "495/501 [============================>.] - ETA: 0s - loss: 0.0446 - accuracy: 0.9870\n",
      "Epoch 48: loss did not improve from 0.04430\n",
      "501/501 [==============================] - 1s 1ms/step - loss: 0.0446 - accuracy: 0.9870\n",
      "Epoch 49/100\n",
      "501/501 [==============================] - ETA: 0s - loss: 0.0442 - accuracy: 0.9870\n",
      "Epoch 49: loss improved from 0.04430 to 0.04424, saving model to fourth_try_weights_best.hdf5\n",
      "501/501 [==============================] - 1s 1ms/step - loss: 0.0442 - accuracy: 0.9870\n",
      "Epoch 50/100\n",
      "498/501 [============================>.] - ETA: 0s - loss: 0.0440 - accuracy: 0.9872\n",
      "Epoch 50: loss improved from 0.04424 to 0.04406, saving model to fourth_try_weights_best.hdf5\n",
      "501/501 [==============================] - 1s 1ms/step - loss: 0.0441 - accuracy: 0.9872\n",
      "Epoch 51/100\n",
      "471/501 [===========================>..] - ETA: 0s - loss: 0.0442 - accuracy: 0.9871\n",
      "Epoch 51: loss did not improve from 0.04406\n",
      "501/501 [==============================] - 1s 1ms/step - loss: 0.0442 - accuracy: 0.9871\n",
      "Epoch 52/100\n",
      "471/501 [===========================>..] - ETA: 0s - loss: 0.0442 - accuracy: 0.9872\n",
      "Epoch 52: loss improved from 0.04406 to 0.04393, saving model to fourth_try_weights_best.hdf5\n",
      "501/501 [==============================] - 1s 1ms/step - loss: 0.0439 - accuracy: 0.9872\n",
      "Epoch 53/100\n",
      "472/501 [===========================>..] - ETA: 0s - loss: 0.0434 - accuracy: 0.9873\n",
      "Epoch 53: loss improved from 0.04393 to 0.04384, saving model to fourth_try_weights_best.hdf5\n",
      "501/501 [==============================] - 1s 1ms/step - loss: 0.0438 - accuracy: 0.9872\n",
      "Epoch 54/100\n",
      "470/501 [===========================>..] - ETA: 0s - loss: 0.0441 - accuracy: 0.9872\n",
      "Epoch 54: loss improved from 0.04384 to 0.04370, saving model to fourth_try_weights_best.hdf5\n",
      "501/501 [==============================] - 1s 1ms/step - loss: 0.0437 - accuracy: 0.9873\n",
      "Epoch 55/100\n",
      "483/501 [===========================>..] - ETA: 0s - loss: 0.0434 - accuracy: 0.9872\n",
      "Epoch 55: loss improved from 0.04370 to 0.04330, saving model to fourth_try_weights_best.hdf5\n",
      "501/501 [==============================] - 1s 2ms/step - loss: 0.0433 - accuracy: 0.9872\n",
      "Epoch 56/100\n",
      "475/501 [===========================>..] - ETA: 0s - loss: 0.0432 - accuracy: 0.9873\n",
      "Epoch 56: loss improved from 0.04330 to 0.04328, saving model to fourth_try_weights_best.hdf5\n",
      "501/501 [==============================] - 1s 1ms/step - loss: 0.0433 - accuracy: 0.9873\n",
      "Epoch 57/100\n",
      "501/501 [==============================] - ETA: 0s - loss: 0.0434 - accuracy: 0.9873\n",
      "Epoch 57: loss did not improve from 0.04328\n",
      "501/501 [==============================] - 1s 2ms/step - loss: 0.0434 - accuracy: 0.9873\n",
      "Epoch 58/100\n",
      "470/501 [===========================>..] - ETA: 0s - loss: 0.0432 - accuracy: 0.9873\n",
      "Epoch 58: loss improved from 0.04328 to 0.04321, saving model to fourth_try_weights_best.hdf5\n",
      "501/501 [==============================] - 1s 1ms/step - loss: 0.0432 - accuracy: 0.9873\n",
      "Epoch 59/100\n",
      "469/501 [===========================>..] - ETA: 0s - loss: 0.0431 - accuracy: 0.9873\n",
      "Epoch 59: loss did not improve from 0.04321\n",
      "501/501 [==============================] - 1s 1ms/step - loss: 0.0432 - accuracy: 0.9873\n",
      "Epoch 60/100\n",
      "494/501 [============================>.] - ETA: 0s - loss: 0.0431 - accuracy: 0.9874\n",
      "Epoch 60: loss improved from 0.04321 to 0.04313, saving model to fourth_try_weights_best.hdf5\n",
      "501/501 [==============================] - 1s 1ms/step - loss: 0.0431 - accuracy: 0.9874\n",
      "Epoch 61/100\n",
      "477/501 [===========================>..] - ETA: 0s - loss: 0.0431 - accuracy: 0.9873\n",
      "Epoch 61: loss improved from 0.04313 to 0.04292, saving model to fourth_try_weights_best.hdf5\n",
      "501/501 [==============================] - 1s 1ms/step - loss: 0.0429 - accuracy: 0.9873\n",
      "Epoch 62/100\n",
      "475/501 [===========================>..] - ETA: 0s - loss: 0.0431 - accuracy: 0.9872\n",
      "Epoch 62: loss did not improve from 0.04292\n",
      "501/501 [==============================] - 1s 1ms/step - loss: 0.0431 - accuracy: 0.9872\n",
      "Epoch 63/100\n",
      "485/501 [============================>.] - ETA: 0s - loss: 0.0430 - accuracy: 0.9872\n",
      "Epoch 63: loss did not improve from 0.04292\n",
      "501/501 [==============================] - 1s 1ms/step - loss: 0.0429 - accuracy: 0.9872\n",
      "Epoch 64/100\n",
      "481/501 [===========================>..] - ETA: 0s - loss: 0.0431 - accuracy: 0.9873\n",
      "Epoch 64: loss did not improve from 0.04292\n",
      "501/501 [==============================] - 1s 1ms/step - loss: 0.0430 - accuracy: 0.9873\n",
      "Epoch 65/100\n",
      "499/501 [============================>.] - ETA: 0s - loss: 0.0428 - accuracy: 0.9873\n",
      "Epoch 65: loss improved from 0.04292 to 0.04284, saving model to fourth_try_weights_best.hdf5\n",
      "501/501 [==============================] - 1s 1ms/step - loss: 0.0428 - accuracy: 0.9873\n",
      "Epoch 66/100\n",
      "474/501 [===========================>..] - ETA: 0s - loss: 0.0423 - accuracy: 0.9876\n",
      "Epoch 66: loss improved from 0.04284 to 0.04242, saving model to fourth_try_weights_best.hdf5\n",
      "501/501 [==============================] - 1s 1ms/step - loss: 0.0424 - accuracy: 0.9875\n",
      "Epoch 67/100\n",
      "473/501 [===========================>..] - ETA: 0s - loss: 0.0426 - accuracy: 0.9875\n",
      "Epoch 67: loss did not improve from 0.04242\n",
      "501/501 [==============================] - 1s 1ms/step - loss: 0.0430 - accuracy: 0.9874\n",
      "Epoch 68/100\n",
      "469/501 [===========================>..] - ETA: 0s - loss: 0.0429 - accuracy: 0.9872\n",
      "Epoch 68: loss improved from 0.04242 to 0.04230, saving model to fourth_try_weights_best.hdf5\n",
      "501/501 [==============================] - 1s 1ms/step - loss: 0.0423 - accuracy: 0.9874\n",
      "Epoch 69/100\n",
      "471/501 [===========================>..] - ETA: 0s - loss: 0.0422 - accuracy: 0.9875\n",
      "Epoch 69: loss did not improve from 0.04230\n",
      "501/501 [==============================] - 1s 1ms/step - loss: 0.0423 - accuracy: 0.9875\n",
      "Epoch 70/100\n",
      "490/501 [============================>.] - ETA: 0s - loss: 0.0424 - accuracy: 0.9874\n",
      "Epoch 70: loss did not improve from 0.04230\n",
      "501/501 [==============================] - 1s 2ms/step - loss: 0.0424 - accuracy: 0.9874\n",
      "Epoch 71/100\n",
      "498/501 [============================>.] - ETA: 0s - loss: 0.0422 - accuracy: 0.9873\n",
      "Epoch 71: loss improved from 0.04230 to 0.04205, saving model to fourth_try_weights_best.hdf5\n",
      "501/501 [==============================] - 1s 2ms/step - loss: 0.0421 - accuracy: 0.9874\n",
      "Epoch 72/100\n",
      "495/501 [============================>.] - ETA: 0s - loss: 0.0420 - accuracy: 0.9875\n",
      "Epoch 72: loss did not improve from 0.04205\n",
      "501/501 [==============================] - 1s 1ms/step - loss: 0.0421 - accuracy: 0.9875\n",
      "Epoch 73/100\n",
      "483/501 [===========================>..] - ETA: 0s - loss: 0.0421 - accuracy: 0.9875\n",
      "Epoch 73: loss improved from 0.04205 to 0.04200, saving model to fourth_try_weights_best.hdf5\n",
      "501/501 [==============================] - 1s 2ms/step - loss: 0.0420 - accuracy: 0.9875\n",
      "Epoch 74/100\n",
      "477/501 [===========================>..] - ETA: 0s - loss: 0.0420 - accuracy: 0.9875\n",
      "Epoch 74: loss improved from 0.04200 to 0.04192, saving model to fourth_try_weights_best.hdf5\n",
      "501/501 [==============================] - 1s 2ms/step - loss: 0.0419 - accuracy: 0.9875\n",
      "Epoch 75/100\n",
      "493/501 [============================>.] - ETA: 0s - loss: 0.0419 - accuracy: 0.9874\n",
      "Epoch 75: loss improved from 0.04192 to 0.04184, saving model to fourth_try_weights_best.hdf5\n",
      "501/501 [==============================] - 1s 1ms/step - loss: 0.0418 - accuracy: 0.9874\n",
      "Epoch 76/100\n",
      "474/501 [===========================>..] - ETA: 0s - loss: 0.0421 - accuracy: 0.9875\n",
      "Epoch 76: loss did not improve from 0.04184\n",
      "501/501 [==============================] - 1s 1ms/step - loss: 0.0421 - accuracy: 0.9875\n",
      "Epoch 77/100\n",
      "482/501 [===========================>..] - ETA: 0s - loss: 0.0417 - accuracy: 0.9875\n",
      "Epoch 77: loss improved from 0.04184 to 0.04177, saving model to fourth_try_weights_best.hdf5\n",
      "501/501 [==============================] - 1s 2ms/step - loss: 0.0418 - accuracy: 0.9874\n",
      "Epoch 78/100\n",
      "477/501 [===========================>..] - ETA: 0s - loss: 0.0422 - accuracy: 0.9874\n",
      "Epoch 78: loss did not improve from 0.04177\n",
      "501/501 [==============================] - 1s 1ms/step - loss: 0.0421 - accuracy: 0.9874\n",
      "Epoch 79/100\n",
      "491/501 [============================>.] - ETA: 0s - loss: 0.0421 - accuracy: 0.9874\n",
      "Epoch 79: loss did not improve from 0.04177\n",
      "501/501 [==============================] - 1s 1ms/step - loss: 0.0420 - accuracy: 0.9875\n",
      "Epoch 80/100\n",
      "468/501 [===========================>..] - ETA: 0s - loss: 0.0415 - accuracy: 0.9877\n",
      "Epoch 80: loss improved from 0.04177 to 0.04150, saving model to fourth_try_weights_best.hdf5\n",
      "501/501 [==============================] - 1s 1ms/step - loss: 0.0415 - accuracy: 0.9877\n",
      "Epoch 81/100\n",
      "466/501 [==========================>...] - ETA: 0s - loss: 0.0419 - accuracy: 0.9874\n",
      "Epoch 81: loss did not improve from 0.04150\n",
      "501/501 [==============================] - 1s 1ms/step - loss: 0.0417 - accuracy: 0.9874\n",
      "Epoch 82/100\n",
      "466/501 [==========================>...] - ETA: 0s - loss: 0.0416 - accuracy: 0.9875\n",
      "Epoch 82: loss improved from 0.04150 to 0.04143, saving model to fourth_try_weights_best.hdf5\n",
      "501/501 [==============================] - 1s 1ms/step - loss: 0.0414 - accuracy: 0.9876\n",
      "Epoch 83/100\n",
      "468/501 [===========================>..] - ETA: 0s - loss: 0.0417 - accuracy: 0.9874\n",
      "Epoch 83: loss did not improve from 0.04143\n",
      "501/501 [==============================] - 1s 1ms/step - loss: 0.0418 - accuracy: 0.9874\n",
      "Epoch 84/100\n",
      "491/501 [============================>.] - ETA: 0s - loss: 0.0415 - accuracy: 0.9874\n",
      "Epoch 84: loss improved from 0.04143 to 0.04143, saving model to fourth_try_weights_best.hdf5\n",
      "501/501 [==============================] - 1s 1ms/step - loss: 0.0414 - accuracy: 0.9875\n",
      "Epoch 85/100\n",
      "486/501 [============================>.] - ETA: 0s - loss: 0.0417 - accuracy: 0.9873\n",
      "Epoch 85: loss did not improve from 0.04143\n",
      "501/501 [==============================] - 1s 1ms/step - loss: 0.0415 - accuracy: 0.9874\n",
      "Epoch 86/100\n",
      "493/501 [============================>.] - ETA: 0s - loss: 0.0410 - accuracy: 0.9878\n",
      "Epoch 86: loss improved from 0.04143 to 0.04102, saving model to fourth_try_weights_best.hdf5\n",
      "501/501 [==============================] - 1s 1ms/step - loss: 0.0410 - accuracy: 0.9878\n",
      "Epoch 87/100\n",
      "494/501 [============================>.] - ETA: 0s - loss: 0.0412 - accuracy: 0.9874\n",
      "Epoch 87: loss did not improve from 0.04102\n",
      "501/501 [==============================] - 1s 1ms/step - loss: 0.0414 - accuracy: 0.9874\n",
      "Epoch 88/100\n",
      "473/501 [===========================>..] - ETA: 0s - loss: 0.0415 - accuracy: 0.9875\n",
      "Epoch 88: loss did not improve from 0.04102\n",
      "501/501 [==============================] - 1s 1ms/step - loss: 0.0415 - accuracy: 0.9875\n",
      "Epoch 89/100\n",
      "476/501 [===========================>..] - ETA: 0s - loss: 0.0409 - accuracy: 0.9877\n",
      "Epoch 89: loss improved from 0.04102 to 0.04102, saving model to fourth_try_weights_best.hdf5\n",
      "501/501 [==============================] - 1s 1ms/step - loss: 0.0410 - accuracy: 0.9876\n",
      "Epoch 90/100\n",
      "490/501 [============================>.] - ETA: 0s - loss: 0.0414 - accuracy: 0.9874\n",
      "Epoch 90: loss did not improve from 0.04102\n",
      "501/501 [==============================] - 1s 2ms/step - loss: 0.0413 - accuracy: 0.9874\n",
      "Epoch 91/100\n",
      "473/501 [===========================>..] - ETA: 0s - loss: 0.0412 - accuracy: 0.9877\n",
      "Epoch 91: loss did not improve from 0.04102\n",
      "501/501 [==============================] - 1s 2ms/step - loss: 0.0414 - accuracy: 0.9876\n",
      "Epoch 92/100\n",
      "495/501 [============================>.] - ETA: 0s - loss: 0.0410 - accuracy: 0.9875\n",
      "Epoch 92: loss improved from 0.04102 to 0.04090, saving model to fourth_try_weights_best.hdf5\n",
      "501/501 [==============================] - 1s 2ms/step - loss: 0.0409 - accuracy: 0.9876\n",
      "Epoch 93/100\n",
      "483/501 [===========================>..] - ETA: 0s - loss: 0.0409 - accuracy: 0.9877\n",
      "Epoch 93: loss did not improve from 0.04090\n",
      "501/501 [==============================] - 1s 1ms/step - loss: 0.0412 - accuracy: 0.9876\n",
      "Epoch 94/100\n",
      "472/501 [===========================>..] - ETA: 0s - loss: 0.0410 - accuracy: 0.9876\n",
      "Epoch 94: loss did not improve from 0.04090\n",
      "501/501 [==============================] - 1s 2ms/step - loss: 0.0411 - accuracy: 0.9876\n",
      "Epoch 95/100\n",
      "486/501 [============================>.] - ETA: 0s - loss: 0.0410 - accuracy: 0.9876\n",
      "Epoch 95: loss did not improve from 0.04090\n",
      "501/501 [==============================] - 1s 1ms/step - loss: 0.0410 - accuracy: 0.9877\n",
      "Epoch 96/100\n",
      "469/501 [===========================>..] - ETA: 0s - loss: 0.0406 - accuracy: 0.9876\n",
      "Epoch 96: loss improved from 0.04090 to 0.04078, saving model to fourth_try_weights_best.hdf5\n",
      "501/501 [==============================] - 1s 1ms/step - loss: 0.0408 - accuracy: 0.9875\n",
      "Epoch 97/100\n",
      "494/501 [============================>.] - ETA: 0s - loss: 0.0408 - accuracy: 0.9876\n",
      "Epoch 97: loss did not improve from 0.04078\n",
      "501/501 [==============================] - 1s 1ms/step - loss: 0.0408 - accuracy: 0.9876\n",
      "Epoch 98/100\n",
      "483/501 [===========================>..] - ETA: 0s - loss: 0.0410 - accuracy: 0.9877\n",
      "Epoch 98: loss did not improve from 0.04078\n",
      "501/501 [==============================] - 1s 1ms/step - loss: 0.0409 - accuracy: 0.9877\n",
      "Epoch 99/100\n",
      "465/501 [==========================>...] - ETA: 0s - loss: 0.0409 - accuracy: 0.9875\n",
      "Epoch 99: loss did not improve from 0.04078\n",
      "501/501 [==============================] - 1s 1ms/step - loss: 0.0412 - accuracy: 0.9874\n",
      "Epoch 100/100\n",
      "480/501 [===========================>..] - ETA: 0s - loss: 0.0406 - accuracy: 0.9877\n",
      "Epoch 100: loss improved from 0.04078 to 0.04060, saving model to fourth_try_weights_best.hdf5\n",
      "501/501 [==============================] - 1s 1ms/step - loss: 0.0406 - accuracy: 0.9877\n"
     ]
    }
   ],
   "source": [
    "import keras\n",
    "from keras.models import Sequential\n",
    "from keras.layers import Dense,Dropout\n",
    "from keras.callbacks import ModelCheckpoint\n",
    "\n",
    "input_dim = X_train.shape[1]\n",
    "batch_size = int(X_train.shape[0] / 500)\n",
    "epochs = 100\n",
    "train = 1\n",
    "load = 0\n",
    "weight_path = 'fourth_try_weights_best.hdf5'\n",
    "\n",
    "model = Sequential()\n",
    "model.add(Dense(input_dim=input_dim,units=100,activation=keras.layers.LeakyReLU(alpha=0.1)))\n",
    "model.add(Dense(units=50,activation=keras.layers.LeakyReLU(alpha=0.1)))\n",
    "model.add(Dense(units=1,activation='sigmoid'))\n",
    "model.compile(optimizer='Adam',loss='binary_crossentropy',metrics=['accuracy'])\n",
    "\n",
    "\n",
    "if load == 1:\n",
    "    model.load_weights(weight_path)\n",
    "\n",
    "if train == 1:\n",
    "    # checkpoint\n",
    "    checkpoint = ModelCheckpoint(weight_path, monitor='loss', verbose=1, save_best_only=True,mode='min')\n",
    "    callbacks_list = [checkpoint]\n",
    "    #Train model\n",
    "    model.fit(X_train,Y_train,epochs=epochs,batch_size=batch_size,validation_split=0,callbacks=callbacks_list)\n",
    "else:\n",
    "    model.load_weights(weight_path)"
   ]
  },
  {
   "cell_type": "code",
   "execution_count": 580,
   "metadata": {},
   "outputs": [],
   "source": [
    "model.load_weights(weight_path)"
   ]
  },
  {
   "cell_type": "code",
   "execution_count": 581,
   "metadata": {},
   "outputs": [
    {
     "name": "stdout",
     "output_type": "stream",
     "text": [
      "286/286 [==============================] - 0s 689us/step\n",
      "              precision    recall  f1-score   support\n",
      "\n",
      "           0       0.99      1.00      0.99      8991\n",
      "           1       0.96      0.27      0.42       159\n",
      "\n",
      "    accuracy                           0.99      9150\n",
      "   macro avg       0.97      0.64      0.71      9150\n",
      "weighted avg       0.99      0.99      0.98      9150\n",
      "\n",
      "[[8989    2]\n",
      " [ 116   43]]\n",
      "Accuracy: 98.71%\n",
      "precision: 0.9714076514735493\n",
      "recall: 0.635108903452719\n",
      "F1-score: 0.7075239246892391\n"
     ]
    }
   ],
   "source": [
    "predicted = model.predict(X_valid).round()\n",
    "# print(type(predicted))\n",
    "# 小數點後7位四捨五入至1\n",
    "# for i in range(len(predicted)):\n",
    "#     if predicted[i] >= 0.00000005:\n",
    "#         predicted[i]=1\n",
    "#     else:\n",
    "#         predicted[i]=0\n",
    "\n",
    "print_acc(Y_valid,predicted)"
   ]
  },
  {
   "attachments": {},
   "cell_type": "markdown",
   "metadata": {},
   "source": [
    "### 提交符合範例的csv檔案"
   ]
  },
  {
   "cell_type": "code",
   "execution_count": 582,
   "metadata": {},
   "outputs": [
    {
     "name": "stdout",
     "output_type": "stream",
     "text": [
      "0.0    3839\n",
      "1.0      11\n",
      "Name: sar_flag, dtype: int64\n"
     ]
    }
   ],
   "source": [
    "df2 = pd.read_csv('預測的案件名單及提交檔案範例.csv').drop('probability',axis=1)\n",
    "\n",
    "df2 = pd.merge(df2,alert_date,on='alert_key',how='left')\n",
    "\n",
    "df2 = pd.merge(df2,public_y_answer,how='left')\n",
    "df2.fillna(0,inplace=True)\n",
    "\n",
    "# print(df2.head(),'\\n',df2.shape)\n",
    "# print(df2.isnull().sum())\n",
    "print(df2['sar_flag'].value_counts())"
   ]
  },
  {
   "cell_type": "code",
   "execution_count": 583,
   "metadata": {},
   "outputs": [],
   "source": [
    "df2 = merge_csv(df2)\n",
    "\n",
    "# save alert key\n",
    "df2_ak = df2['alert_key']"
   ]
  },
  {
   "attachments": {},
   "cell_type": "markdown",
   "metadata": {},
   "source": [
    "## 檢查是否保留所有alert_key"
   ]
  },
  {
   "cell_type": "code",
   "execution_count": 438,
   "metadata": {},
   "outputs": [
    {
     "name": "stdout",
     "output_type": "stream",
     "text": [
      "shape of 'df2.groupby('alert_key').first()': (3850, 14)\n"
     ]
    }
   ],
   "source": [
    "print(\"shape of 'df2.groupby('alert_key').first()':\",df2.groupby('alert_key').first().shape)"
   ]
  },
  {
   "cell_type": "code",
   "execution_count": 584,
   "metadata": {},
   "outputs": [],
   "source": [
    "# drop 'cust_id' and 'alert_key'\n",
    "df2.drop(['cust_id','alert_key'],axis=1,inplace=True)\n",
    "\n",
    "X_test = df2.drop(['sar_flag'], axis=1)\n",
    "Y_test = df2['sar_flag']\n",
    "\n",
    "#Feature Normalization\n",
    "minmax_scale = preprocessing.MinMaxScaler(feature_range=(0,1))\n",
    "X_test =minmax_scale.fit_transform(X_test)"
   ]
  },
  {
   "attachments": {},
   "cell_type": "markdown",
   "metadata": {},
   "source": [
    "## 檢查精準度"
   ]
  },
  {
   "cell_type": "code",
   "execution_count": 586,
   "metadata": {},
   "outputs": [
    {
     "name": "stdout",
     "output_type": "stream",
     "text": [
      "504/504 [==============================] - 0s 736us/step\n",
      "              precision    recall  f1-score   support\n",
      "\n",
      "         0.0       1.00      1.00      1.00     16036\n",
      "         1.0       0.00      0.00      0.00        79\n",
      "\n",
      "    accuracy                           1.00     16115\n",
      "   macro avg       0.50      0.50      0.50     16115\n",
      "weighted avg       0.99      1.00      0.99     16115\n",
      "\n",
      "[[16035     1]\n",
      " [   79     0]]\n",
      "Accuracy: 99.50%\n",
      "precision: 0.49754871540275536\n",
      "recall: 0.49996882015465205\n",
      "F1-score: 0.49875583203732504\n"
     ]
    }
   ],
   "source": [
    "predicted = model.predict(X_test).round()\n",
    "\n",
    "# for i in range(len(predicted)):\n",
    "#     if predicted[i] >= 0.00000005:\n",
    "#         predicted[i]=1\n",
    "#     else:\n",
    "#         predicted[i]=0\n",
    "        \n",
    "print_acc(Y_test,predicted)"
   ]
  },
  {
   "attachments": {},
   "cell_type": "markdown",
   "metadata": {},
   "source": [
    "## 製作csv"
   ]
  },
  {
   "cell_type": "code",
   "execution_count": 587,
   "metadata": {},
   "outputs": [
    {
     "name": "stdout",
     "output_type": "stream",
     "text": [
      "504/504 [==============================] - 0s 723us/step\n",
      "(16115,)\n",
      "(16115, 2)\n",
      "(3850, 2)\n",
      "     alert_key   probability\n",
      "186     354014  9.960697e-01\n",
      "593     356605  3.956461e-01\n",
      "344     355090  1.906680e-01\n",
      "118     353248  1.746655e-01\n",
      "793     357788  9.298865e-02\n",
      "..         ...           ...\n",
      "18      352332  1.069669e-36\n",
      "56      352693  0.000000e+00\n",
      "26      352476  0.000000e+00\n",
      "71      352870  0.000000e+00\n",
      "78      352886  0.000000e+00\n",
      "\n",
      "[3850 rows x 2 columns]\n"
     ]
    }
   ],
   "source": [
    "ans_y = model.predict(X_test).flatten()\n",
    "\n",
    "df3 = pd.DataFrame({\n",
    "    \"probability\":ans_y\n",
    "})\n",
    "print(ans_y.shape)\n",
    "\n",
    "final = pd.concat([df2_ak,df3],axis=1)\n",
    "print(final.shape)\n",
    "\n",
    "final = final.groupby('alert_key',as_index=False).max()\n",
    "print(final.shape)\n",
    "# 機率由大到小\n",
    "final.sort_values(inplace=True,by=['probability'],ascending=False)\n",
    "print(final)\n",
    "\n",
    "final.to_csv('submission_fourth_try.csv', index=False)"
   ]
  },
  {
   "cell_type": "code",
   "execution_count": null,
   "metadata": {},
   "outputs": [],
   "source": [
    "# df4 = pd.read_csv('預測的案件名單及提交檔案範例.csv').drop('probability',axis=1)\n",
    "# print(df4)"
   ]
  },
  {
   "cell_type": "code",
   "execution_count": null,
   "metadata": {},
   "outputs": [],
   "source": [
    "# temp = pd.merge(df4,final,on='alert_key',how='left').fillna(0)\n",
    "# # 機率由大到小\n",
    "# temp.sort_values(inplace=True,by=['probability'],ascending=False)\n",
    "# temp.to_csv('submission_third_try.csv', index=False)\n",
    "# print(temp)"
   ]
  }
 ],
 "metadata": {
  "kernelspec": {
   "display_name": "base",
   "language": "python",
   "name": "python3"
  },
  "language_info": {
   "codemirror_mode": {
    "name": "ipython",
    "version": 3
   },
   "file_extension": ".py",
   "mimetype": "text/x-python",
   "name": "python",
   "nbconvert_exporter": "python",
   "pygments_lexer": "ipython3",
   "version": "3.9.7"
  },
  "orig_nbformat": 4,
  "vscode": {
   "interpreter": {
    "hash": "61ff55f9f3abd31e8fc84dea29263213325a8ef1444d8e535cb6793547393410"
   }
  }
 },
 "nbformat": 4,
 "nbformat_minor": 2
}
