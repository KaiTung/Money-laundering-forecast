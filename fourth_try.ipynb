{
 "cells": [
  {
   "cell_type": "code",
   "execution_count": 18,
   "metadata": {},
   "outputs": [],
   "source": [
    "import pandas as pd\n",
    "import seaborn as sns\n",
    "import matplotlib.pyplot as plt\n",
    "import numpy as np\n",
    "from sklearn.model_selection import train_test_split\n",
    "from sklearn.metrics import classification_report\n",
    "from sklearn.metrics import confusion_matrix\n",
    "from sklearn.metrics import accuracy_score"
   ]
  },
  {
   "cell_type": "code",
   "execution_count": 19,
   "metadata": {},
   "outputs": [],
   "source": [
    "# read all the data\n",
    "ccba = pd.read_csv('public_train_x_ccba_full_hashed.csv')\n",
    "cdtx = pd.read_csv('public_train_x_cdtx0001_full_hashed.csv')\n",
    "custinfo = pd.read_csv('public_train_x_custinfo_full_hashed.csv')\n",
    "dp = pd.read_csv('public_train_x_dp_full_hashed.csv')\n",
    "remit = pd.read_csv('public_train_x_remit1_full_hashed.csv')\n",
    "\n",
    "#use train answer and public answer\n",
    "public_x_alert_date = pd.read_csv('public_x_alert_date.csv')\n",
    "train_x_alert_date = pd.read_csv('train_x_alert_date.csv')\n",
    "alert_date = pd.concat([public_x_alert_date,train_x_alert_date])\n",
    "# print(alert_date.shape)\n",
    "\n",
    "public_y_answer = pd.read_csv('public_answer.csv')\n",
    "train_y_answer = pd.read_csv('train_y_answer.csv')\n",
    "y_answer = pd.concat([public_y_answer,train_y_answer])"
   ]
  },
  {
   "attachments": {},
   "cell_type": "markdown",
   "metadata": {},
   "source": [
    "## 觀察樣本 0 與 1 個數"
   ]
  },
  {
   "cell_type": "code",
   "execution_count": 20,
   "metadata": {},
   "outputs": [
    {
     "name": "stdout",
     "output_type": "stream",
     "text": [
      "       alert_key  sar_flag\n",
      "0         171189         0\n",
      "1         171202         0\n",
      "2         171599         0\n",
      "3         171737         0\n",
      "4         171142         0\n",
      "...          ...       ...\n",
      "23901     352132         0\n",
      "23902     352125         0\n",
      "23903     352080         0\n",
      "23904     352075         0\n",
      "23905     351927         0\n",
      "\n",
      "[23906 rows x 2 columns]\n",
      "0    23672\n",
      "1      234\n",
      "Name: sar_flag, dtype: int64\n"
     ]
    }
   ],
   "source": [
    "print(train_y_answer)\n",
    "print(train_y_answer['sar_flag'].value_counts())"
   ]
  },
  {
   "attachments": {},
   "cell_type": "markdown",
   "metadata": {},
   "source": [
    "## 資料平衡"
   ]
  },
  {
   "cell_type": "code",
   "execution_count": 21,
   "metadata": {},
   "outputs": [],
   "source": [
    "# sample 0 and 1 to balance way 1\n",
    "# temp = train_y_answer.loc[train_y_answer['sar_flag'] == 0]\n",
    "# temp2 = train_y_answer.loc[train_y_answer['sar_flag'] == 1]\n",
    "\n",
    "# temp3 = pd.concat([temp2]*100,ignore_index=True)\n",
    "\n",
    "# train_y_answer_resampled = pd.concat([temp,temp3])\n",
    "# print(train_y_answer_resampled['sar_flag'].value_counts())\n",
    "# print(train_y_answer_resampled)"
   ]
  },
  {
   "cell_type": "code",
   "execution_count": 22,
   "metadata": {},
   "outputs": [
    {
     "name": "stdout",
     "output_type": "stream",
     "text": [
      "[[171189]\n",
      " [171202]\n",
      " [171599]\n",
      " ...\n",
      " [194998]\n",
      " [268765]\n",
      " [184729]]\n",
      "[0 0 0 ... 1 1 1]\n",
      "       alert_key  sar_flag\n",
      "0         171189         0\n",
      "1         171202         0\n",
      "2         171599         0\n",
      "3         171737         0\n",
      "4         171142         0\n",
      "...          ...       ...\n",
      "47339     230638         1\n",
      "47340     185217         1\n",
      "47341     194998         1\n",
      "47342     268765         1\n",
      "47343     184729         1\n",
      "\n",
      "[47344 rows x 2 columns]\n",
      "0    23672\n",
      "1    23672\n",
      "Name: sar_flag, dtype: int64\n"
     ]
    }
   ],
   "source": [
    "# sample 0 and 1 to balance way 2\n",
    "from imblearn.over_sampling import RandomOverSampler\n",
    "\n",
    "\n",
    "temp = train_y_answer['alert_key'].array.reshape(-1, 1)\n",
    "temp2 = train_y_answer['sar_flag'].array.reshape(-1, 1)\n",
    "# print(temp)\n",
    "# print(temp2)\n",
    "\n",
    "# Randomly over sample the minority class\n",
    "ros = RandomOverSampler(random_state=42)\n",
    "temp_ros, temp2_ros= ros.fit_resample(temp, temp2)\n",
    "# Check the number of records after over sampling\n",
    "print(temp_ros)\n",
    "print(temp2_ros)\n",
    "\n",
    "train_y_answer_resampled = pd.DataFrame({\n",
    "    'alert_key':temp_ros.flatten(),\n",
    "    'sar_flag':temp2_ros.flatten()\n",
    "})\n",
    "print(train_y_answer_resampled)\n",
    "print(train_y_answer_resampled['sar_flag'].value_counts())"
   ]
  },
  {
   "cell_type": "code",
   "execution_count": 23,
   "metadata": {},
   "outputs": [],
   "source": [
    "def check_csv(df):\n",
    "    print(df.head(),'\\n',\"shape = :\",df.shape)\n",
    "    print(df.isnull().sum())"
   ]
  },
  {
   "cell_type": "code",
   "execution_count": 24,
   "metadata": {},
   "outputs": [
    {
     "name": "stdout",
     "output_type": "stream",
     "text": [
      "   alert_key  date  sar_flag\n",
      "0     171189     0         0\n",
      "1     171202     0         0\n",
      "2     171599     0         0\n",
      "3     171737     0         0\n",
      "4     171142     0         0 \n",
      " shape = : (47344, 3)\n",
      "alert_key    0\n",
      "date         0\n",
      "sar_flag     0\n",
      "dtype: int64\n"
     ]
    }
   ],
   "source": [
    "df = pd.merge(alert_date,train_y_answer_resampled)\n",
    "\n",
    "check_csv(df)"
   ]
  },
  {
   "attachments": {},
   "cell_type": "markdown",
   "metadata": {},
   "source": [
    "## check every csv "
   ]
  },
  {
   "cell_type": "code",
   "execution_count": 25,
   "metadata": {},
   "outputs": [
    {
     "name": "stdout",
     "output_type": "stream",
     "text": [
      "                                             cust_id  lupay  byymm     cycam  \\\n",
      "0  0172056578071e83399216fcd640bdc4de4583149d0fd9...    0.0      0  152628.0   \n",
      "1  0172056578071e83399216fcd640bdc4de4583149d0fd9...    0.0     30  152628.0   \n",
      "2  0172056578071e83399216fcd640bdc4de4583149d0fd9...    0.0     61  152628.0   \n",
      "3  0172056578071e83399216fcd640bdc4de4583149d0fd9...    0.0     91  152628.0   \n",
      "4  0172056578071e83399216fcd640bdc4de4583149d0fd9...    0.0    122  152628.0   \n",
      "\n",
      "   usgam  clamt  csamt  inamt  cucsm  cucah  \n",
      "0    0.0    0.0    0.0    0.0    0.0    0.0  \n",
      "1    0.0    0.0    0.0    0.0    0.0    0.0  \n",
      "2    0.0    0.0    0.0    0.0    0.0    0.0  \n",
      "3    0.0    0.0    0.0    0.0    0.0    0.0  \n",
      "4    0.0    0.0    0.0    0.0    0.0    0.0   \n",
      " shape = : (59075, 10)\n",
      "cust_id    0\n",
      "lupay      0\n",
      "byymm      0\n",
      "cycam      0\n",
      "usgam      0\n",
      "clamt      0\n",
      "csamt      0\n",
      "inamt      0\n",
      "cucsm      0\n",
      "cucah      0\n",
      "dtype: int64\n"
     ]
    }
   ],
   "source": [
    "check_csv(ccba)"
   ]
  },
  {
   "cell_type": "code",
   "execution_count": 26,
   "metadata": {},
   "outputs": [
    {
     "name": "stdout",
     "output_type": "stream",
     "text": [
      "                                             cust_id  lupay  byymm     cycam  \\\n",
      "0  0172056578071e83399216fcd640bdc4de4583149d0fd9...    0.0      0  152628.0   \n",
      "1  0172056578071e83399216fcd640bdc4de4583149d0fd9...    0.0     30  152628.0   \n",
      "2  0172056578071e83399216fcd640bdc4de4583149d0fd9...    0.0     61  152628.0   \n",
      "3  0172056578071e83399216fcd640bdc4de4583149d0fd9...    0.0     91  152628.0   \n",
      "4  0172056578071e83399216fcd640bdc4de4583149d0fd9...    0.0    122  152628.0   \n",
      "\n",
      "   inamt  cucsm  \n",
      "0    0.0    0.0  \n",
      "1    0.0    0.0  \n",
      "2    0.0    0.0  \n",
      "3    0.0    0.0  \n",
      "4    0.0    0.0   \n",
      " shape = : (59075, 6)\n",
      "cust_id    0\n",
      "lupay      0\n",
      "byymm      0\n",
      "cycam      0\n",
      "inamt      0\n",
      "cucsm      0\n",
      "dtype: int64\n"
     ]
    }
   ],
   "source": [
    "temp = ccba.drop(['usgam','clamt','csamt','cucah'],axis=1)\n",
    "ccba = temp\n",
    "check_csv(ccba)"
   ]
  },
  {
   "cell_type": "code",
   "execution_count": 27,
   "metadata": {},
   "outputs": [
    {
     "name": "stdout",
     "output_type": "stream",
     "text": [
      "                                             cust_id  date  country  cur_type  \\\n",
      "0  0174dff6a8a2038f9966d61d8450e19e3bd751e4051c2a...     1      130        47   \n",
      "1  0174dff6a8a2038f9966d61d8450e19e3bd751e4051c2a...    10      130        47   \n",
      "2  0174dff6a8a2038f9966d61d8450e19e3bd751e4051c2a...    10      130        47   \n",
      "3  0174dff6a8a2038f9966d61d8450e19e3bd751e4051c2a...    13      130        47   \n",
      "4  0174dff6a8a2038f9966d61d8450e19e3bd751e4051c2a...    15      130        47   \n",
      "\n",
      "      amt  \n",
      "0  2312.0  \n",
      "1   808.0  \n",
      "2  7099.0  \n",
      "3   306.0  \n",
      "4   255.0   \n",
      " shape = : (1043014, 5)\n",
      "cust_id     0\n",
      "date        0\n",
      "country     0\n",
      "cur_type    0\n",
      "amt         0\n",
      "dtype: int64\n"
     ]
    }
   ],
   "source": [
    "check_csv(cdtx)"
   ]
  },
  {
   "cell_type": "code",
   "execution_count": 28,
   "metadata": {},
   "outputs": [
    {
     "name": "stdout",
     "output_type": "stream",
     "text": [
      "                                             cust_id  date  country  cur_type  \\\n",
      "0  0015cc01f553512007705edf855baa16f1b57a16fb107e...    21      130        47   \n",
      "1  0015cc01f553512007705edf855baa16f1b57a16fb107e...    52      130        47   \n",
      "2  0015cc01f553512007705edf855baa16f1b57a16fb107e...    56      130        47   \n",
      "3  0015cc01f553512007705edf855baa16f1b57a16fb107e...    59      130        47   \n",
      "4  0015cc01f553512007705edf855baa16f1b57a16fb107e...    62      130        47   \n",
      "\n",
      "       amt  \n",
      "0  13428.0  \n",
      "1    202.0  \n",
      "2   3624.0  \n",
      "3    175.0  \n",
      "4    128.0   \n",
      " shape = : (455436, 5)\n",
      "cust_id     0\n",
      "date        0\n",
      "country     0\n",
      "cur_type    0\n",
      "amt         0\n",
      "dtype: int64\n"
     ]
    }
   ],
   "source": [
    "# temp = cdtx.drop(['country','cur_type'],axis=1).groupby(['cust_id','date'],as_index=False)['amt'].sum()\n",
    "temp = cdtx.groupby(['cust_id','date','country','cur_type'],as_index=False).sum()\n",
    "cdtx = temp\n",
    "check_csv(cdtx)"
   ]
  },
  {
   "cell_type": "code",
   "execution_count": 29,
   "metadata": {},
   "outputs": [
    {
     "name": "stdout",
     "output_type": "stream",
     "text": [
      "   alert_key                                            cust_id  risk_rank  \\\n",
      "0     352249  82595ac69158ae08d34156784bdec0d9e2ca5b242b6d2a...          1   \n",
      "1     352253  b212d14cb35676926682b2cf849e295d948888f556c07e...          1   \n",
      "2     352254  e5b0002791c7852644a2730abeaa893cdf14a072ef7812...          1   \n",
      "3     352280  74214c478dc6519fbefe4bc31693865bdcd698ab974b64...          3   \n",
      "4     352282  0340e7611f0d82c3cb87e6194fa14bb2ccf8afbf1b3418...          1   \n",
      "\n",
      "   occupation_code  total_asset  AGE  \n",
      "0             19.0    1465816.0    7  \n",
      "1              2.0      98177.0    2  \n",
      "2             19.0    2052922.0    7  \n",
      "3             15.0     201906.0    5  \n",
      "4             12.0       7450.0    5   \n",
      " shape = : (25751, 6)\n",
      "alert_key            0\n",
      "cust_id              0\n",
      "risk_rank            0\n",
      "occupation_code    116\n",
      "total_asset          0\n",
      "AGE                  0\n",
      "dtype: int64\n"
     ]
    }
   ],
   "source": [
    "check_csv(custinfo)"
   ]
  },
  {
   "cell_type": "code",
   "execution_count": 30,
   "metadata": {},
   "outputs": [
    {
     "name": "stdout",
     "output_type": "stream",
     "text": [
      "   alert_key                                            cust_id  risk_rank  \\\n",
      "0     352249  82595ac69158ae08d34156784bdec0d9e2ca5b242b6d2a...          1   \n",
      "1     352253  b212d14cb35676926682b2cf849e295d948888f556c07e...          1   \n",
      "2     352254  e5b0002791c7852644a2730abeaa893cdf14a072ef7812...          1   \n",
      "3     352280  74214c478dc6519fbefe4bc31693865bdcd698ab974b64...          3   \n",
      "4     352282  0340e7611f0d82c3cb87e6194fa14bb2ccf8afbf1b3418...          1   \n",
      "\n",
      "   total_asset  \n",
      "0    1465816.0  \n",
      "1      98177.0  \n",
      "2    2052922.0  \n",
      "3     201906.0  \n",
      "4       7450.0   \n",
      " shape = : (25751, 4)\n",
      "alert_key      0\n",
      "cust_id        0\n",
      "risk_rank      0\n",
      "total_asset    0\n",
      "dtype: int64\n"
     ]
    }
   ],
   "source": [
    "temp = custinfo.drop(['occupation_code','AGE'],axis=1)\n",
    "custinfo = temp\n",
    "check_csv(custinfo)"
   ]
  },
  {
   "cell_type": "code",
   "execution_count": 31,
   "metadata": {},
   "outputs": [
    {
     "name": "stdout",
     "output_type": "stream",
     "text": [
      "                                             cust_id debit_credit  tx_date  \\\n",
      "0  0172056578071e83399216fcd640bdc4de4583149d0fd9...           CR       36   \n",
      "1  0172056578071e83399216fcd640bdc4de4583149d0fd9...           CR       42   \n",
      "2  0172056578071e83399216fcd640bdc4de4583149d0fd9...           CR       39   \n",
      "3  0172056578071e83399216fcd640bdc4de4583149d0fd9...           CR       49   \n",
      "4  0172056578071e83399216fcd640bdc4de4583149d0fd9...           CR       70   \n",
      "\n",
      "   tx_time  tx_type    tx_amt  exchg_rate  info_asset_code  fiscTxId  \\\n",
      "0       18        2   68265.0         1.0               16       NaN   \n",
      "1       17        2  932058.0         1.0               16       NaN   \n",
      "2       18        2    6089.0         1.0               16       NaN   \n",
      "3       15        2  776715.0         1.0               16       NaN   \n",
      "4       19        2   61630.0         1.0               16       NaN   \n",
      "\n",
      "   txbranch  cross_bank  ATM  \n",
      "0       NaN           0    0  \n",
      "1       NaN           0    0  \n",
      "2       NaN           0    0  \n",
      "3       NaN           0    0  \n",
      "4       NaN           0    0   \n",
      " shape = : (1969818, 12)\n",
      "cust_id                  0\n",
      "debit_credit             0\n",
      "tx_date                  0\n",
      "tx_time                  0\n",
      "tx_type                  0\n",
      "tx_amt               22015\n",
      "exchg_rate               0\n",
      "info_asset_code          0\n",
      "fiscTxId           1043090\n",
      "txbranch           1003150\n",
      "cross_bank               0\n",
      "ATM                      0\n",
      "dtype: int64\n"
     ]
    }
   ],
   "source": [
    "check_csv(dp)"
   ]
  },
  {
   "cell_type": "code",
   "execution_count": 32,
   "metadata": {},
   "outputs": [
    {
     "name": "stdout",
     "output_type": "stream",
     "text": [
      "                                             cust_id debit_credit  tx_date  \\\n",
      "0  0172056578071e83399216fcd640bdc4de4583149d0fd9...           CR       36   \n",
      "1  0172056578071e83399216fcd640bdc4de4583149d0fd9...           CR       42   \n",
      "2  0172056578071e83399216fcd640bdc4de4583149d0fd9...           CR       39   \n",
      "3  0172056578071e83399216fcd640bdc4de4583149d0fd9...           CR       49   \n",
      "4  0172056578071e83399216fcd640bdc4de4583149d0fd9...           CR       70   \n",
      "\n",
      "   tx_type    tx_amt  info_asset_code  cross_bank  ATM  \n",
      "0        2   68265.0               16           0    0  \n",
      "1        2  932058.0               16           0    0  \n",
      "2        2    6089.0               16           0    0  \n",
      "3        2  776715.0               16           0    0  \n",
      "4        2   61630.0               16           0    0   \n",
      " shape = : (1947803, 8)\n",
      "cust_id            0\n",
      "debit_credit       0\n",
      "tx_date            0\n",
      "tx_type            0\n",
      "tx_amt             0\n",
      "info_asset_code    0\n",
      "cross_bank         0\n",
      "ATM                0\n",
      "dtype: int64\n"
     ]
    }
   ],
   "source": [
    "# too many Nan in 'fiscTxId' and 'txbranch' so we drop them\n",
    "temp = dp.drop(['tx_time','exchg_rate','fiscTxId','txbranch'],axis=1)\n",
    "temp.dropna(axis='index',inplace=True)\n",
    "# then we drop columns\n",
    "# 當天交易總額\n",
    "temp.groupby(['cust_id','tx_date'])['tx_amt'].sum()\n",
    "dp = temp\n",
    "check_csv(dp)"
   ]
  },
  {
   "cell_type": "code",
   "execution_count": 33,
   "metadata": {},
   "outputs": [
    {
     "name": "stdout",
     "output_type": "stream",
     "text": [
      "                                             cust_id  trans_date  trans_no  \\\n",
      "0  01b1735c3dbf0a35c1c989bb45434ce4326b365b73db06...         148         0   \n",
      "1  01b1735c3dbf0a35c1c989bb45434ce4326b365b73db06...         165         0   \n",
      "2  01b1735c3dbf0a35c1c989bb45434ce4326b365b73db06...         231         0   \n",
      "3  01b1735c3dbf0a35c1c989bb45434ce4326b365b73db06...         291         0   \n",
      "4  01b1735c3dbf0a35c1c989bb45434ce4326b365b73db06...         389         0   \n",
      "\n",
      "   trade_amount_usd  \n",
      "0          100528.0  \n",
      "1          100528.0  \n",
      "2           89479.0  \n",
      "3          100528.0  \n",
      "4           30158.0   \n",
      " shape = : (17167, 4)\n",
      "cust_id             0\n",
      "trans_date          0\n",
      "trans_no            0\n",
      "trade_amount_usd    0\n",
      "dtype: int64\n"
     ]
    }
   ],
   "source": [
    "check_csv(remit)"
   ]
  },
  {
   "cell_type": "code",
   "execution_count": 34,
   "metadata": {},
   "outputs": [
    {
     "name": "stdout",
     "output_type": "stream",
     "text": [
      "                                             cust_id  trans_date  \\\n",
      "0  002f13f534d0bd9fcc1848db3ff5c7b1179d117f8de805...         153   \n",
      "1  0032adaf4a8731b4d6a3fdcba32f9ebdcd336490eda155...         223   \n",
      "2  0032adaf4a8731b4d6a3fdcba32f9ebdcd336490eda155...         312   \n",
      "3  0032adaf4a8731b4d6a3fdcba32f9ebdcd336490eda155...         328   \n",
      "4  0032adaf4a8731b4d6a3fdcba32f9ebdcd336490eda155...         356   \n",
      "\n",
      "   trade_amount_usd  \n",
      "0          343647.0  \n",
      "1            6071.0  \n",
      "2           60024.0  \n",
      "3          531413.0  \n",
      "4            2109.0   \n",
      " shape = : (15413, 3)\n",
      "cust_id             0\n",
      "trans_date          0\n",
      "trade_amount_usd    0\n",
      "dtype: int64\n"
     ]
    }
   ],
   "source": [
    "# temp = remit.drop(['trans_no'],axis=1)\n",
    "temp = remit\n",
    "#交易總額\n",
    "temp = temp.groupby(['cust_id','trans_date'],as_index=False)['trade_amount_usd'].sum()\n",
    "remit = temp\n",
    "check_csv(remit)"
   ]
  },
  {
   "attachments": {},
   "cell_type": "markdown",
   "metadata": {},
   "source": [
    "## Merge csv"
   ]
  },
  {
   "cell_type": "code",
   "execution_count": 35,
   "metadata": {},
   "outputs": [
    {
     "name": "stdout",
     "output_type": "stream",
     "text": [
      "   alert_key  date  sar_flag  \\\n",
      "0     171189     0         0   \n",
      "1     171189     0         0   \n",
      "2     171189     0         0   \n",
      "3     171202     0         0   \n",
      "4     171202     0         0   \n",
      "\n",
      "                                             cust_id  risk_rank  total_asset  \\\n",
      "0  972ee157e63316e8a50dd489bc93730a3ee8a8959d5c6b...          1     375576.0   \n",
      "1  972ee157e63316e8a50dd489bc93730a3ee8a8959d5c6b...          1     375576.0   \n",
      "2  972ee157e63316e8a50dd489bc93730a3ee8a8959d5c6b...          1     375576.0   \n",
      "3  a10ab33f90926fb18d7bb5e78034d7f04a1fbed95b7951...          3    2717416.0   \n",
      "4  a10ab33f90926fb18d7bb5e78034d7f04a1fbed95b7951...          3    2717416.0   \n",
      "\n",
      "     lupay     cycam  inamt     cucsm  ...  cur_type    amt  tx_type   tx_amt  \\\n",
      "0  85428.0  301224.0    0.0  151434.0  ...      47.0  673.0      2.0    309.0   \n",
      "1  85428.0  301224.0    0.0  151434.0  ...      47.0  673.0      2.0   1020.0   \n",
      "2  85428.0  301224.0    0.0  151434.0  ...      47.0  673.0      2.0    186.0   \n",
      "3      0.0       0.0    0.0       0.0  ...       0.0    0.0      1.0  20920.0   \n",
      "4      0.0       0.0    0.0       0.0  ...       0.0    0.0      3.0  31380.0   \n",
      "\n",
      "   info_asset_code  cross_bank  ATM  debit_credit_CR  debit_credit_DB  \\\n",
      "0              1.0         0.0  1.0                0                1   \n",
      "1              1.0         0.0  1.0                0                1   \n",
      "2              1.0         0.0  1.0                0                1   \n",
      "3             12.0         0.0  0.0                0                1   \n",
      "4             16.0         0.0  0.0                1                0   \n",
      "\n",
      "   trade_amount_usd  \n",
      "0               0.0  \n",
      "1               0.0  \n",
      "2               0.0  \n",
      "3               0.0  \n",
      "4               0.0  \n",
      "\n",
      "[5 rows x 21 columns] \n",
      " shape = : (480302, 21)\n",
      "alert_key           0\n",
      "date                0\n",
      "sar_flag            0\n",
      "cust_id             0\n",
      "risk_rank           0\n",
      "total_asset         0\n",
      "lupay               0\n",
      "cycam               0\n",
      "inamt               0\n",
      "cucsm               0\n",
      "country             0\n",
      "cur_type            0\n",
      "amt                 0\n",
      "tx_type             0\n",
      "tx_amt              0\n",
      "info_asset_code     0\n",
      "cross_bank          0\n",
      "ATM                 0\n",
      "debit_credit_CR     0\n",
      "debit_credit_DB     0\n",
      "trade_amount_usd    0\n",
      "dtype: int64\n"
     ]
    }
   ],
   "source": [
    "def merge_csv(df):\n",
    "    # merge custinfo to get alert_key with custid and get more information\n",
    "    df = pd.merge(df,custinfo,on='alert_key',how='left')\n",
    "    # print(df.head(),'\\n',df.shape)\n",
    "    # print(df.isnull().sum())\n",
    "\n",
    "    # merge ccba on cust_id and date\n",
    "    temp = pd.merge(df,ccba.rename(columns={'byymm':'date'}),on=['cust_id','date'],how='left')\n",
    "    # print(temp.head(),'\\n',temp.shape)\n",
    "    # print(temp.isnull().sum())\n",
    "    df = temp\n",
    "\n",
    "    # merge cdtx on cust_id and date\n",
    "    temp = pd.merge(df,cdtx,on=['cust_id','date'],how='left')\n",
    "    df = temp\n",
    "\n",
    "    # merge dp on cust_id and date\n",
    "    temp = pd.merge(df,dp.rename(columns={'tx_date':'date'}),on=['cust_id','date'],how='left')\n",
    "    #turn 'debit_credit' into dummy variables\n",
    "    temp = pd.get_dummies(temp, columns=['debit_credit'])\n",
    "    df = temp\n",
    "\n",
    "    # merge remit on cust_id and date\n",
    "    temp = pd.merge(df,remit.rename(columns={'trans_date':'date'}),on=['cust_id','date'],how='left')\n",
    "    df = temp\n",
    "\n",
    "    # fill all Nan\n",
    "    df.fillna(0,inplace=True)\n",
    "    # print(df.head(),'\\n',df.shape)\n",
    "    # print(df.isnull().sum())\n",
    "    \n",
    "    return df\n",
    "\n",
    "df = merge_csv(df)\n",
    "check_csv(df)"
   ]
  },
  {
   "attachments": {},
   "cell_type": "markdown",
   "metadata": {},
   "source": [
    "## 檢查是否保留住所有alert_key"
   ]
  },
  {
   "cell_type": "code",
   "execution_count": 36,
   "metadata": {},
   "outputs": [
    {
     "name": "stdout",
     "output_type": "stream",
     "text": [
      "shape of 'df': (480302, 21)\n",
      "shape of 'df.groupby('alert_key').first()': (23906, 20)\n"
     ]
    }
   ],
   "source": [
    "print(\"shape of 'df':\",df.shape)\n",
    "print(\"shape of 'df.groupby('alert_key').first()':\",df.groupby('alert_key').first().shape)"
   ]
  },
  {
   "cell_type": "code",
   "execution_count": 37,
   "metadata": {},
   "outputs": [],
   "source": [
    "# drop 'cust_id' and 'alert_key'\n",
    "X_ak = df['alert_key']\n",
    "df.drop(['cust_id','alert_key'],axis=1,inplace=True)"
   ]
  },
  {
   "cell_type": "code",
   "execution_count": 38,
   "metadata": {},
   "outputs": [],
   "source": [
    "# train test split\n",
    "X = df.drop(['sar_flag'], axis=1)\n",
    "Y = df['sar_flag']\n",
    "\n",
    "from sklearn import preprocessing\n",
    "#Feature Normalization\n",
    "minmax_scale = preprocessing.MinMaxScaler(feature_range=(0,1))\n",
    "X=minmax_scale.fit_transform(X)\n",
    "\n",
    "X_train, X_valid, Y_train, Y_valid = train_test_split(X, Y, test_size=0.05, random_state=42)\n",
    "\n",
    "# X_train,Y_train = SMOTE(random_state=42).fit_resample(X_train,Y_train)"
   ]
  },
  {
   "attachments": {},
   "cell_type": "markdown",
   "metadata": {},
   "source": [
    "## Print Correlation Matrix"
   ]
  },
  {
   "cell_type": "code",
   "execution_count": 41,
   "metadata": {},
   "outputs": [
    {
     "data": {
      "text/plain": [
       "<AxesSubplot:title={'center':'Correlation Matrix'}>"
      ]
     },
     "execution_count": 41,
     "metadata": {},
     "output_type": "execute_result"
    },
    {
     "data": {
      "image/png": "[encoded data removed]",
      "text/plain": [
       "<Figure size 1008x1008 with 2 Axes>"
      ]
     },
     "metadata": {
      "needs_background": "light"
     },
     "output_type": "display_data"
    }
   ],
   "source": [
    "correlation = df.corr()\n",
    "plt.figure(figsize=(13,13))\n",
    "plt.title('Correlation Matrix')\n",
    "sns.heatmap(correlation, vmax=1, square=True,annot=True,cmap='cubehelix')"
   ]
  },
  {
   "cell_type": "code",
   "execution_count": 391,
   "metadata": {},
   "outputs": [
    {
     "name": "stdout",
     "output_type": "stream",
     "text": [
      "Epoch 1/100\n",
      "521/527 [============================>.] - ETA: 0s - loss: 0.1441 - accuracy: 0.8056\n",
      "Epoch 1: loss improved from inf to 0.14374, saving model to fourth_try_weights_best.hdf5\n",
      "527/527 [==============================] - 1s 2ms/step - loss: 0.1437 - accuracy: 0.8062\n",
      "Epoch 2/100\n",
      "497/527 [===========================>..] - ETA: 0s - loss: 0.1051 - accuracy: 0.8679\n",
      "Epoch 2: loss improved from 0.14374 to 0.10463, saving model to fourth_try_weights_best.hdf5\n",
      "527/527 [==============================] - 1s 2ms/step - loss: 0.1046 - accuracy: 0.8683\n",
      "Epoch 3/100\n",
      "519/527 [============================>.] - ETA: 0s - loss: 0.0908 - accuracy: 0.8868\n",
      "Epoch 3: loss improved from 0.10463 to 0.09071, saving model to fourth_try_weights_best.hdf5\n",
      "527/527 [==============================] - 1s 2ms/step - loss: 0.0907 - accuracy: 0.8869\n",
      "Epoch 4/100\n",
      "516/527 [============================>.] - ETA: 0s - loss: 0.0837 - accuracy: 0.8960\n",
      "Epoch 4: loss improved from 0.09071 to 0.08364, saving model to fourth_try_weights_best.hdf5\n",
      "527/527 [==============================] - 1s 2ms/step - loss: 0.0836 - accuracy: 0.8960\n",
      "Epoch 5/100\n",
      "524/527 [============================>.] - ETA: 0s - loss: 0.0790 - accuracy: 0.9019\n",
      "Epoch 5: loss improved from 0.08364 to 0.07904, saving model to fourth_try_weights_best.hdf5\n",
      "527/527 [==============================] - 1s 2ms/step - loss: 0.0790 - accuracy: 0.9018\n",
      "Epoch 6/100\n",
      "506/527 [===========================>..] - ETA: 0s - loss: 0.0762 - accuracy: 0.9060\n",
      "Epoch 6: loss improved from 0.07904 to 0.07616, saving model to fourth_try_weights_best.hdf5\n",
      "527/527 [==============================] - 1s 2ms/step - loss: 0.0762 - accuracy: 0.9061\n",
      "Epoch 7/100\n",
      "517/527 [============================>.] - ETA: 0s - loss: 0.0741 - accuracy: 0.9099\n",
      "Epoch 7: loss improved from 0.07616 to 0.07404, saving model to fourth_try_weights_best.hdf5\n",
      "527/527 [==============================] - 1s 2ms/step - loss: 0.0740 - accuracy: 0.9099\n",
      "Epoch 8/100\n",
      "518/527 [============================>.] - ETA: 0s - loss: 0.0719 - accuracy: 0.9134\n",
      "Epoch 8: loss improved from 0.07404 to 0.07197, saving model to fourth_try_weights_best.hdf5\n",
      "527/527 [==============================] - 1s 2ms/step - loss: 0.0720 - accuracy: 0.9132\n",
      "Epoch 9/100\n",
      "501/527 [===========================>..] - ETA: 0s - loss: 0.0705 - accuracy: 0.9158\n",
      "Epoch 9: loss improved from 0.07197 to 0.07036, saving model to fourth_try_weights_best.hdf5\n",
      "527/527 [==============================] - 1s 2ms/step - loss: 0.0704 - accuracy: 0.9160\n",
      "Epoch 10/100\n",
      "526/527 [============================>.] - ETA: 0s - loss: 0.0686 - accuracy: 0.9191\n",
      "Epoch 10: loss improved from 0.07036 to 0.06861, saving model to fourth_try_weights_best.hdf5\n",
      "527/527 [==============================] - 1s 2ms/step - loss: 0.0686 - accuracy: 0.9191\n",
      "Epoch 11/100\n",
      "499/527 [===========================>..] - ETA: 0s - loss: 0.0674 - accuracy: 0.9207\n",
      "Epoch 11: loss improved from 0.06861 to 0.06741, saving model to fourth_try_weights_best.hdf5\n",
      "527/527 [==============================] - 1s 2ms/step - loss: 0.0674 - accuracy: 0.9208\n",
      "Epoch 12/100\n",
      "507/527 [===========================>..] - ETA: 0s - loss: 0.0662 - accuracy: 0.9226\n",
      "Epoch 12: loss improved from 0.06741 to 0.06615, saving model to fourth_try_weights_best.hdf5\n",
      "527/527 [==============================] - 1s 2ms/step - loss: 0.0661 - accuracy: 0.9226\n",
      "Epoch 13/100\n",
      "504/527 [===========================>..] - ETA: 0s - loss: 0.0649 - accuracy: 0.9241\n",
      "Epoch 13: loss improved from 0.06615 to 0.06488, saving model to fourth_try_weights_best.hdf5\n",
      "527/527 [==============================] - 1s 2ms/step - loss: 0.0649 - accuracy: 0.9242\n",
      "Epoch 14/100\n",
      "519/527 [============================>.] - ETA: 0s - loss: 0.0641 - accuracy: 0.9252\n",
      "Epoch 14: loss improved from 0.06488 to 0.06410, saving model to fourth_try_weights_best.hdf5\n",
      "527/527 [==============================] - 1s 2ms/step - loss: 0.0641 - accuracy: 0.9252\n",
      "Epoch 15/100\n",
      "522/527 [============================>.] - ETA: 0s - loss: 0.0629 - accuracy: 0.9265\n",
      "Epoch 15: loss improved from 0.06410 to 0.06293, saving model to fourth_try_weights_best.hdf5\n",
      "527/527 [==============================] - 1s 2ms/step - loss: 0.0629 - accuracy: 0.9264\n",
      "Epoch 16/100\n",
      "524/527 [============================>.] - ETA: 0s - loss: 0.0622 - accuracy: 0.9275\n",
      "Epoch 16: loss improved from 0.06293 to 0.06219, saving model to fourth_try_weights_best.hdf5\n",
      "527/527 [==============================] - 1s 2ms/step - loss: 0.0622 - accuracy: 0.9275\n",
      "Epoch 17/100\n",
      "511/527 [============================>.] - ETA: 0s - loss: 0.0614 - accuracy: 0.9288\n",
      "Epoch 17: loss improved from 0.06219 to 0.06140, saving model to fourth_try_weights_best.hdf5\n",
      "527/527 [==============================] - 1s 2ms/step - loss: 0.0614 - accuracy: 0.9288\n",
      "Epoch 18/100\n",
      "522/527 [============================>.] - ETA: 0s - loss: 0.0606 - accuracy: 0.9299\n",
      "Epoch 18: loss improved from 0.06140 to 0.06062, saving model to fourth_try_weights_best.hdf5\n",
      "527/527 [==============================] - 1s 2ms/step - loss: 0.0606 - accuracy: 0.9299\n",
      "Epoch 19/100\n",
      "501/527 [===========================>..] - ETA: 0s - loss: 0.0600 - accuracy: 0.9307\n",
      "Epoch 19: loss improved from 0.06062 to 0.05993, saving model to fourth_try_weights_best.hdf5\n",
      "527/527 [==============================] - 1s 2ms/step - loss: 0.0599 - accuracy: 0.9307\n",
      "Epoch 20/100\n",
      "523/527 [============================>.] - ETA: 0s - loss: 0.0593 - accuracy: 0.9313\n",
      "Epoch 20: loss improved from 0.05993 to 0.05926, saving model to fourth_try_weights_best.hdf5\n",
      "527/527 [==============================] - 1s 2ms/step - loss: 0.0593 - accuracy: 0.9313\n",
      "Epoch 21/100\n",
      "510/527 [============================>.] - ETA: 0s - loss: 0.0589 - accuracy: 0.9315\n",
      "Epoch 21: loss improved from 0.05926 to 0.05884, saving model to fourth_try_weights_best.hdf5\n",
      "527/527 [==============================] - 1s 2ms/step - loss: 0.0588 - accuracy: 0.9316\n",
      "Epoch 22/100\n",
      "499/527 [===========================>..] - ETA: 0s - loss: 0.0579 - accuracy: 0.9327\n",
      "Epoch 22: loss improved from 0.05884 to 0.05791, saving model to fourth_try_weights_best.hdf5\n",
      "527/527 [==============================] - 1s 2ms/step - loss: 0.0579 - accuracy: 0.9326\n",
      "Epoch 23/100\n",
      "523/527 [============================>.] - ETA: 0s - loss: 0.0568 - accuracy: 0.9342\n",
      "Epoch 23: loss improved from 0.05791 to 0.05680, saving model to fourth_try_weights_best.hdf5\n",
      "527/527 [==============================] - 1s 2ms/step - loss: 0.0568 - accuracy: 0.9342\n",
      "Epoch 24/100\n",
      "526/527 [============================>.] - ETA: 0s - loss: 0.0562 - accuracy: 0.9349\n",
      "Epoch 24: loss improved from 0.05680 to 0.05618, saving model to fourth_try_weights_best.hdf5\n",
      "527/527 [==============================] - 1s 2ms/step - loss: 0.0562 - accuracy: 0.9349\n",
      "Epoch 25/100\n",
      "509/527 [===========================>..] - ETA: 0s - loss: 0.0554 - accuracy: 0.9361\n",
      "Epoch 25: loss improved from 0.05618 to 0.05553, saving model to fourth_try_weights_best.hdf5\n",
      "527/527 [==============================] - 1s 2ms/step - loss: 0.0555 - accuracy: 0.9360\n",
      "Epoch 26/100\n",
      "504/527 [===========================>..] - ETA: 0s - loss: 0.0551 - accuracy: 0.9369\n",
      "Epoch 26: loss improved from 0.05553 to 0.05519, saving model to fourth_try_weights_best.hdf5\n",
      "527/527 [==============================] - 1s 2ms/step - loss: 0.0552 - accuracy: 0.9368\n",
      "Epoch 27/100\n",
      "512/527 [============================>.] - ETA: 0s - loss: 0.0546 - accuracy: 0.9378\n",
      "Epoch 27: loss improved from 0.05519 to 0.05451, saving model to fourth_try_weights_best.hdf5\n",
      "527/527 [==============================] - 1s 2ms/step - loss: 0.0545 - accuracy: 0.9379\n",
      "Epoch 28/100\n",
      "506/527 [===========================>..] - ETA: 0s - loss: 0.0543 - accuracy: 0.9381\n",
      "Epoch 28: loss improved from 0.05451 to 0.05434, saving model to fourth_try_weights_best.hdf5\n",
      "527/527 [==============================] - 1s 2ms/step - loss: 0.0543 - accuracy: 0.9381\n",
      "Epoch 29/100\n",
      "516/527 [============================>.] - ETA: 0s - loss: 0.0538 - accuracy: 0.9388\n",
      "Epoch 29: loss improved from 0.05434 to 0.05377, saving model to fourth_try_weights_best.hdf5\n",
      "527/527 [==============================] - 1s 2ms/step - loss: 0.0538 - accuracy: 0.9389\n",
      "Epoch 30/100\n",
      "519/527 [============================>.] - ETA: 0s - loss: 0.0531 - accuracy: 0.9400\n",
      "Epoch 30: loss improved from 0.05377 to 0.05308, saving model to fourth_try_weights_best.hdf5\n",
      "527/527 [==============================] - 1s 2ms/step - loss: 0.0531 - accuracy: 0.9401\n",
      "Epoch 31/100\n",
      "514/527 [============================>.] - ETA: 0s - loss: 0.0529 - accuracy: 0.9403\n",
      "Epoch 31: loss improved from 0.05308 to 0.05291, saving model to fourth_try_weights_best.hdf5\n",
      "527/527 [==============================] - 1s 2ms/step - loss: 0.0529 - accuracy: 0.9402\n",
      "Epoch 32/100\n",
      "513/527 [============================>.] - ETA: 0s - loss: 0.0527 - accuracy: 0.9403\n",
      "Epoch 32: loss improved from 0.05291 to 0.05268, saving model to fourth_try_weights_best.hdf5\n",
      "527/527 [==============================] - 1s 2ms/step - loss: 0.0527 - accuracy: 0.9403\n",
      "Epoch 33/100\n",
      "514/527 [============================>.] - ETA: 0s - loss: 0.0523 - accuracy: 0.9412\n",
      "Epoch 33: loss improved from 0.05268 to 0.05226, saving model to fourth_try_weights_best.hdf5\n",
      "527/527 [==============================] - 1s 2ms/step - loss: 0.0523 - accuracy: 0.9412\n",
      "Epoch 34/100\n",
      "527/527 [==============================] - ETA: 0s - loss: 0.0517 - accuracy: 0.9419\n",
      "Epoch 34: loss improved from 0.05226 to 0.05174, saving model to fourth_try_weights_best.hdf5\n",
      "527/527 [==============================] - 1s 2ms/step - loss: 0.0517 - accuracy: 0.9419\n",
      "Epoch 35/100\n",
      "504/527 [===========================>..] - ETA: 0s - loss: 0.0513 - accuracy: 0.9424\n",
      "Epoch 35: loss improved from 0.05174 to 0.05144, saving model to fourth_try_weights_best.hdf5\n",
      "527/527 [==============================] - 1s 2ms/step - loss: 0.0514 - accuracy: 0.9422\n",
      "Epoch 36/100\n",
      "503/527 [===========================>..] - ETA: 0s - loss: 0.0510 - accuracy: 0.9428\n",
      "Epoch 36: loss improved from 0.05144 to 0.05106, saving model to fourth_try_weights_best.hdf5\n",
      "527/527 [==============================] - 1s 2ms/step - loss: 0.0511 - accuracy: 0.9428\n",
      "Epoch 37/100\n",
      "499/527 [===========================>..] - ETA: 0s - loss: 0.0506 - accuracy: 0.9435\n",
      "Epoch 37: loss improved from 0.05106 to 0.05060, saving model to fourth_try_weights_best.hdf5\n",
      "527/527 [==============================] - 1s 2ms/step - loss: 0.0506 - accuracy: 0.9435\n",
      "Epoch 38/100\n",
      "508/527 [===========================>..] - ETA: 0s - loss: 0.0508 - accuracy: 0.9428\n",
      "Epoch 38: loss did not improve from 0.05060\n",
      "527/527 [==============================] - 1s 2ms/step - loss: 0.0508 - accuracy: 0.9429\n",
      "Epoch 39/100\n",
      "512/527 [============================>.] - ETA: 0s - loss: 0.0500 - accuracy: 0.9441\n",
      "Epoch 39: loss improved from 0.05060 to 0.05005, saving model to fourth_try_weights_best.hdf5\n",
      "527/527 [==============================] - 1s 2ms/step - loss: 0.0500 - accuracy: 0.9441\n",
      "Epoch 40/100\n",
      "515/527 [============================>.] - ETA: 0s - loss: 0.0498 - accuracy: 0.9443\n",
      "Epoch 40: loss improved from 0.05005 to 0.04981, saving model to fourth_try_weights_best.hdf5\n",
      "527/527 [==============================] - 1s 2ms/step - loss: 0.0498 - accuracy: 0.9442\n",
      "Epoch 41/100\n",
      "510/527 [============================>.] - ETA: 0s - loss: 0.0495 - accuracy: 0.9444\n",
      "Epoch 41: loss improved from 0.04981 to 0.04951, saving model to fourth_try_weights_best.hdf5\n",
      "527/527 [==============================] - 1s 2ms/step - loss: 0.0495 - accuracy: 0.9444\n",
      "Epoch 42/100\n",
      "506/527 [===========================>..] - ETA: 0s - loss: 0.0496 - accuracy: 0.9442\n",
      "Epoch 42: loss did not improve from 0.04951\n",
      "527/527 [==============================] - 1s 2ms/step - loss: 0.0496 - accuracy: 0.9442\n",
      "Epoch 43/100\n",
      "509/527 [===========================>..] - ETA: 0s - loss: 0.0492 - accuracy: 0.9447\n",
      "Epoch 43: loss improved from 0.04951 to 0.04921, saving model to fourth_try_weights_best.hdf5\n",
      "527/527 [==============================] - 1s 2ms/step - loss: 0.0492 - accuracy: 0.9447\n",
      "Epoch 44/100\n",
      "498/527 [===========================>..] - ETA: 0s - loss: 0.0488 - accuracy: 0.9453\n",
      "Epoch 44: loss improved from 0.04921 to 0.04883, saving model to fourth_try_weights_best.hdf5\n",
      "527/527 [==============================] - 1s 2ms/step - loss: 0.0488 - accuracy: 0.9452\n",
      "Epoch 45/100\n",
      "522/527 [============================>.] - ETA: 0s - loss: 0.0485 - accuracy: 0.9456\n",
      "Epoch 45: loss improved from 0.04883 to 0.04845, saving model to fourth_try_weights_best.hdf5\n",
      "527/527 [==============================] - 1s 2ms/step - loss: 0.0484 - accuracy: 0.9456\n",
      "Epoch 46/100\n",
      "514/527 [============================>.] - ETA: 0s - loss: 0.0484 - accuracy: 0.9455\n",
      "Epoch 46: loss improved from 0.04845 to 0.04839, saving model to fourth_try_weights_best.hdf5\n",
      "527/527 [==============================] - 1s 2ms/step - loss: 0.0484 - accuracy: 0.9456\n",
      "Epoch 47/100\n",
      "522/527 [============================>.] - ETA: 0s - loss: 0.0481 - accuracy: 0.9460\n",
      "Epoch 47: loss improved from 0.04839 to 0.04809, saving model to fourth_try_weights_best.hdf5\n",
      "527/527 [==============================] - 1s 2ms/step - loss: 0.0481 - accuracy: 0.9460\n",
      "Epoch 48/100\n",
      "524/527 [============================>.] - ETA: 0s - loss: 0.0478 - accuracy: 0.9465\n",
      "Epoch 48: loss improved from 0.04809 to 0.04778, saving model to fourth_try_weights_best.hdf5\n",
      "527/527 [==============================] - 1s 2ms/step - loss: 0.0478 - accuracy: 0.9465\n",
      "Epoch 49/100\n",
      "527/527 [==============================] - ETA: 0s - loss: 0.0479 - accuracy: 0.9463\n",
      "Epoch 49: loss did not improve from 0.04778\n",
      "527/527 [==============================] - 1s 2ms/step - loss: 0.0479 - accuracy: 0.9463\n",
      "Epoch 50/100\n",
      "515/527 [============================>.] - ETA: 0s - loss: 0.0475 - accuracy: 0.9467\n",
      "Epoch 50: loss improved from 0.04778 to 0.04750, saving model to fourth_try_weights_best.hdf5\n",
      "527/527 [==============================] - 1s 2ms/step - loss: 0.0475 - accuracy: 0.9468\n",
      "Epoch 51/100\n",
      "501/527 [===========================>..] - ETA: 0s - loss: 0.0472 - accuracy: 0.9472\n",
      "Epoch 51: loss improved from 0.04750 to 0.04707, saving model to fourth_try_weights_best.hdf5\n",
      "527/527 [==============================] - 1s 2ms/step - loss: 0.0471 - accuracy: 0.9474\n",
      "Epoch 52/100\n",
      "499/527 [===========================>..] - ETA: 0s - loss: 0.0471 - accuracy: 0.9474\n",
      "Epoch 52: loss improved from 0.04707 to 0.04707, saving model to fourth_try_weights_best.hdf5\n",
      "527/527 [==============================] - 1s 2ms/step - loss: 0.0471 - accuracy: 0.9473\n",
      "Epoch 53/100\n",
      "513/527 [============================>.] - ETA: 0s - loss: 0.0471 - accuracy: 0.9473\n",
      "Epoch 53: loss improved from 0.04707 to 0.04705, saving model to fourth_try_weights_best.hdf5\n",
      "527/527 [==============================] - 1s 2ms/step - loss: 0.0471 - accuracy: 0.9475\n",
      "Epoch 54/100\n",
      "515/527 [============================>.] - ETA: 0s - loss: 0.0466 - accuracy: 0.9479\n",
      "Epoch 54: loss improved from 0.04705 to 0.04665, saving model to fourth_try_weights_best.hdf5\n",
      "527/527 [==============================] - 1s 2ms/step - loss: 0.0467 - accuracy: 0.9479\n",
      "Epoch 55/100\n",
      "516/527 [============================>.] - ETA: 0s - loss: 0.0462 - accuracy: 0.9485\n",
      "Epoch 55: loss improved from 0.04665 to 0.04620, saving model to fourth_try_weights_best.hdf5\n",
      "527/527 [==============================] - 1s 2ms/step - loss: 0.0462 - accuracy: 0.9485\n",
      "Epoch 56/100\n",
      "520/527 [============================>.] - ETA: 0s - loss: 0.0464 - accuracy: 0.9483\n",
      "Epoch 56: loss did not improve from 0.04620\n",
      "527/527 [==============================] - 1s 2ms/step - loss: 0.0464 - accuracy: 0.9482\n",
      "Epoch 57/100\n",
      "514/527 [============================>.] - ETA: 0s - loss: 0.0462 - accuracy: 0.9484\n",
      "Epoch 57: loss improved from 0.04620 to 0.04615, saving model to fourth_try_weights_best.hdf5\n",
      "527/527 [==============================] - 1s 2ms/step - loss: 0.0461 - accuracy: 0.9484\n",
      "Epoch 58/100\n",
      "500/527 [===========================>..] - ETA: 0s - loss: 0.0461 - accuracy: 0.9484\n",
      "Epoch 58: loss improved from 0.04615 to 0.04607, saving model to fourth_try_weights_best.hdf5\n",
      "527/527 [==============================] - 1s 2ms/step - loss: 0.0461 - accuracy: 0.9484\n",
      "Epoch 59/100\n",
      "517/527 [============================>.] - ETA: 0s - loss: 0.0461 - accuracy: 0.9487\n",
      "Epoch 59: loss improved from 0.04607 to 0.04603, saving model to fourth_try_weights_best.hdf5\n",
      "527/527 [==============================] - 1s 2ms/step - loss: 0.0460 - accuracy: 0.9487\n",
      "Epoch 60/100\n",
      "514/527 [============================>.] - ETA: 0s - loss: 0.0455 - accuracy: 0.9492\n",
      "Epoch 60: loss improved from 0.04603 to 0.04554, saving model to fourth_try_weights_best.hdf5\n",
      "527/527 [==============================] - 1s 2ms/step - loss: 0.0455 - accuracy: 0.9492\n",
      "Epoch 61/100\n",
      "523/527 [============================>.] - ETA: 0s - loss: 0.0455 - accuracy: 0.9494\n",
      "Epoch 61: loss did not improve from 0.04554\n",
      "527/527 [==============================] - 1s 2ms/step - loss: 0.0456 - accuracy: 0.9493\n",
      "Epoch 62/100\n",
      "507/527 [===========================>..] - ETA: 0s - loss: 0.0452 - accuracy: 0.9495\n",
      "Epoch 62: loss improved from 0.04554 to 0.04528, saving model to fourth_try_weights_best.hdf5\n",
      "527/527 [==============================] - 1s 2ms/step - loss: 0.0453 - accuracy: 0.9494\n",
      "Epoch 63/100\n",
      "505/527 [===========================>..] - ETA: 0s - loss: 0.0450 - accuracy: 0.9498\n",
      "Epoch 63: loss improved from 0.04528 to 0.04512, saving model to fourth_try_weights_best.hdf5\n",
      "527/527 [==============================] - 1s 2ms/step - loss: 0.0451 - accuracy: 0.9497\n",
      "Epoch 64/100\n",
      "509/527 [===========================>..] - ETA: 0s - loss: 0.0450 - accuracy: 0.9498\n",
      "Epoch 64: loss improved from 0.04512 to 0.04495, saving model to fourth_try_weights_best.hdf5\n",
      "527/527 [==============================] - 1s 2ms/step - loss: 0.0450 - accuracy: 0.9498\n",
      "Epoch 65/100\n",
      "511/527 [============================>.] - ETA: 0s - loss: 0.0449 - accuracy: 0.9499\n",
      "Epoch 65: loss improved from 0.04495 to 0.04495, saving model to fourth_try_weights_best.hdf5\n",
      "527/527 [==============================] - 1s 2ms/step - loss: 0.0449 - accuracy: 0.9499\n",
      "Epoch 66/100\n",
      "517/527 [============================>.] - ETA: 0s - loss: 0.0447 - accuracy: 0.9499\n",
      "Epoch 66: loss improved from 0.04495 to 0.04470, saving model to fourth_try_weights_best.hdf5\n",
      "527/527 [==============================] - 1s 2ms/step - loss: 0.0447 - accuracy: 0.9499\n",
      "Epoch 67/100\n",
      "501/527 [===========================>..] - ETA: 0s - loss: 0.0445 - accuracy: 0.9504\n",
      "Epoch 67: loss improved from 0.04470 to 0.04453, saving model to fourth_try_weights_best.hdf5\n",
      "527/527 [==============================] - 1s 2ms/step - loss: 0.0445 - accuracy: 0.9504\n",
      "Epoch 68/100\n",
      "519/527 [============================>.] - ETA: 0s - loss: 0.0449 - accuracy: 0.9498\n",
      "Epoch 68: loss did not improve from 0.04453\n",
      "527/527 [==============================] - 1s 2ms/step - loss: 0.0449 - accuracy: 0.9498\n",
      "Epoch 69/100\n",
      "500/527 [===========================>..] - ETA: 0s - loss: 0.0441 - accuracy: 0.9509\n",
      "Epoch 69: loss improved from 0.04453 to 0.04414, saving model to fourth_try_weights_best.hdf5\n",
      "527/527 [==============================] - 1s 2ms/step - loss: 0.0441 - accuracy: 0.9508\n",
      "Epoch 70/100\n",
      "517/527 [============================>.] - ETA: 0s - loss: 0.0443 - accuracy: 0.9506\n",
      "Epoch 70: loss did not improve from 0.04414\n",
      "527/527 [==============================] - 1s 2ms/step - loss: 0.0443 - accuracy: 0.9506\n",
      "Epoch 71/100\n",
      "527/527 [==============================] - ETA: 0s - loss: 0.0439 - accuracy: 0.9509\n",
      "Epoch 71: loss improved from 0.04414 to 0.04394, saving model to fourth_try_weights_best.hdf5\n",
      "527/527 [==============================] - 1s 2ms/step - loss: 0.0439 - accuracy: 0.9509\n",
      "Epoch 72/100\n",
      "526/527 [============================>.] - ETA: 0s - loss: 0.0439 - accuracy: 0.9509\n",
      "Epoch 72: loss improved from 0.04394 to 0.04392, saving model to fourth_try_weights_best.hdf5\n",
      "527/527 [==============================] - 1s 2ms/step - loss: 0.0439 - accuracy: 0.9509\n",
      "Epoch 73/100\n",
      "520/527 [============================>.] - ETA: 0s - loss: 0.0438 - accuracy: 0.9510\n",
      "Epoch 73: loss improved from 0.04392 to 0.04385, saving model to fourth_try_weights_best.hdf5\n",
      "527/527 [==============================] - 1s 2ms/step - loss: 0.0438 - accuracy: 0.9510\n",
      "Epoch 74/100\n",
      "523/527 [============================>.] - ETA: 0s - loss: 0.0437 - accuracy: 0.9512\n",
      "Epoch 74: loss improved from 0.04385 to 0.04368, saving model to fourth_try_weights_best.hdf5\n",
      "527/527 [==============================] - 1s 2ms/step - loss: 0.0437 - accuracy: 0.9512\n",
      "Epoch 75/100\n",
      "517/527 [============================>.] - ETA: 0s - loss: 0.0436 - accuracy: 0.9512\n",
      "Epoch 75: loss improved from 0.04368 to 0.04368, saving model to fourth_try_weights_best.hdf5\n",
      "527/527 [==============================] - 1s 2ms/step - loss: 0.0437 - accuracy: 0.9512\n",
      "Epoch 76/100\n",
      "518/527 [============================>.] - ETA: 0s - loss: 0.0435 - accuracy: 0.9515\n",
      "Epoch 76: loss improved from 0.04368 to 0.04354, saving model to fourth_try_weights_best.hdf5\n",
      "527/527 [==============================] - 1s 2ms/step - loss: 0.0435 - accuracy: 0.9515\n",
      "Epoch 77/100\n",
      "503/527 [===========================>..] - ETA: 0s - loss: 0.0436 - accuracy: 0.9514\n",
      "Epoch 77: loss did not improve from 0.04354\n",
      "527/527 [==============================] - 1s 2ms/step - loss: 0.0436 - accuracy: 0.9514\n",
      "Epoch 78/100\n",
      "514/527 [============================>.] - ETA: 0s - loss: 0.0435 - accuracy: 0.9514\n",
      "Epoch 78: loss did not improve from 0.04354\n",
      "527/527 [==============================] - 1s 2ms/step - loss: 0.0436 - accuracy: 0.9514\n",
      "Epoch 79/100\n",
      "525/527 [============================>.] - ETA: 0s - loss: 0.0431 - accuracy: 0.9521\n",
      "Epoch 79: loss improved from 0.04354 to 0.04308, saving model to fourth_try_weights_best.hdf5\n",
      "527/527 [==============================] - 1s 2ms/step - loss: 0.0431 - accuracy: 0.9521\n",
      "Epoch 80/100\n",
      "518/527 [============================>.] - ETA: 0s - loss: 0.0432 - accuracy: 0.9519\n",
      "Epoch 80: loss did not improve from 0.04308\n",
      "527/527 [==============================] - 1s 2ms/step - loss: 0.0432 - accuracy: 0.9519\n",
      "Epoch 81/100\n",
      "525/527 [============================>.] - ETA: 0s - loss: 0.0432 - accuracy: 0.9518\n",
      "Epoch 81: loss did not improve from 0.04308\n",
      "527/527 [==============================] - 1s 2ms/step - loss: 0.0432 - accuracy: 0.9518\n",
      "Epoch 82/100\n",
      "524/527 [============================>.] - ETA: 0s - loss: 0.0428 - accuracy: 0.9523\n",
      "Epoch 82: loss improved from 0.04308 to 0.04285, saving model to fourth_try_weights_best.hdf5\n",
      "527/527 [==============================] - 1s 2ms/step - loss: 0.0428 - accuracy: 0.9523\n",
      "Epoch 83/100\n",
      "505/527 [===========================>..] - ETA: 0s - loss: 0.0429 - accuracy: 0.9524\n",
      "Epoch 83: loss improved from 0.04285 to 0.04284, saving model to fourth_try_weights_best.hdf5\n",
      "527/527 [==============================] - 1s 2ms/step - loss: 0.0428 - accuracy: 0.9524\n",
      "Epoch 84/100\n",
      "522/527 [============================>.] - ETA: 0s - loss: 0.0428 - accuracy: 0.9524\n",
      "Epoch 84: loss improved from 0.04284 to 0.04279, saving model to fourth_try_weights_best.hdf5\n",
      "527/527 [==============================] - 1s 2ms/step - loss: 0.0428 - accuracy: 0.9524\n",
      "Epoch 85/100\n",
      "508/527 [===========================>..] - ETA: 0s - loss: 0.0427 - accuracy: 0.9525\n",
      "Epoch 85: loss improved from 0.04279 to 0.04269, saving model to fourth_try_weights_best.hdf5\n",
      "527/527 [==============================] - 1s 2ms/step - loss: 0.0427 - accuracy: 0.9525\n",
      "Epoch 86/100\n",
      "504/527 [===========================>..] - ETA: 0s - loss: 0.0424 - accuracy: 0.9529\n",
      "Epoch 86: loss improved from 0.04269 to 0.04249, saving model to fourth_try_weights_best.hdf5\n",
      "527/527 [==============================] - 1s 2ms/step - loss: 0.0425 - accuracy: 0.9528\n",
      "Epoch 87/100\n",
      "504/527 [===========================>..] - ETA: 0s - loss: 0.0425 - accuracy: 0.9528\n",
      "Epoch 87: loss did not improve from 0.04249\n",
      "527/527 [==============================] - 1s 2ms/step - loss: 0.0425 - accuracy: 0.9528\n",
      "Epoch 88/100\n",
      "510/527 [============================>.] - ETA: 0s - loss: 0.0426 - accuracy: 0.9527\n",
      "Epoch 88: loss did not improve from 0.04249\n",
      "527/527 [==============================] - 1s 2ms/step - loss: 0.0426 - accuracy: 0.9528\n",
      "Epoch 89/100\n",
      "510/527 [============================>.] - ETA: 0s - loss: 0.0423 - accuracy: 0.9530\n",
      "Epoch 89: loss improved from 0.04249 to 0.04238, saving model to fourth_try_weights_best.hdf5\n",
      "527/527 [==============================] - 1s 2ms/step - loss: 0.0424 - accuracy: 0.9530\n",
      "Epoch 90/100\n",
      "506/527 [===========================>..] - ETA: 0s - loss: 0.0425 - accuracy: 0.9528\n",
      "Epoch 90: loss did not improve from 0.04238\n",
      "527/527 [==============================] - 1s 2ms/step - loss: 0.0425 - accuracy: 0.9528\n",
      "Epoch 91/100\n",
      "516/527 [============================>.] - ETA: 0s - loss: 0.0420 - accuracy: 0.9534\n",
      "Epoch 91: loss improved from 0.04238 to 0.04207, saving model to fourth_try_weights_best.hdf5\n",
      "527/527 [==============================] - 1s 2ms/step - loss: 0.0421 - accuracy: 0.9533\n",
      "Epoch 92/100\n",
      "498/527 [===========================>..] - ETA: 0s - loss: 0.0424 - accuracy: 0.9530\n",
      "Epoch 92: loss did not improve from 0.04207\n",
      "527/527 [==============================] - 1s 2ms/step - loss: 0.0424 - accuracy: 0.9530\n",
      "Epoch 93/100\n",
      "512/527 [============================>.] - ETA: 0s - loss: 0.0420 - accuracy: 0.9534\n",
      "Epoch 93: loss improved from 0.04207 to 0.04200, saving model to fourth_try_weights_best.hdf5\n",
      "527/527 [==============================] - 1s 2ms/step - loss: 0.0420 - accuracy: 0.9534\n",
      "Epoch 94/100\n",
      "499/527 [===========================>..] - ETA: 0s - loss: 0.0418 - accuracy: 0.9539\n",
      "Epoch 94: loss improved from 0.04200 to 0.04191, saving model to fourth_try_weights_best.hdf5\n",
      "527/527 [==============================] - 1s 2ms/step - loss: 0.0419 - accuracy: 0.9537\n",
      "Epoch 95/100\n",
      "516/527 [============================>.] - ETA: 0s - loss: 0.0425 - accuracy: 0.9529\n",
      "Epoch 95: loss did not improve from 0.04191\n",
      "527/527 [==============================] - 1s 2ms/step - loss: 0.0424 - accuracy: 0.9529\n",
      "Epoch 96/100\n",
      "518/527 [============================>.] - ETA: 0s - loss: 0.0416 - accuracy: 0.9539\n",
      "Epoch 96: loss improved from 0.04191 to 0.04159, saving model to fourth_try_weights_best.hdf5\n",
      "527/527 [==============================] - 1s 2ms/step - loss: 0.0416 - accuracy: 0.9540\n",
      "Epoch 97/100\n",
      "522/527 [============================>.] - ETA: 0s - loss: 0.0417 - accuracy: 0.9540\n",
      "Epoch 97: loss did not improve from 0.04159\n",
      "527/527 [==============================] - 1s 2ms/step - loss: 0.0417 - accuracy: 0.9540\n",
      "Epoch 98/100\n",
      "524/527 [============================>.] - ETA: 0s - loss: 0.0415 - accuracy: 0.9541\n",
      "Epoch 98: loss improved from 0.04159 to 0.04152, saving model to fourth_try_weights_best.hdf5\n",
      "527/527 [==============================] - 1s 2ms/step - loss: 0.0415 - accuracy: 0.9541\n",
      "Epoch 99/100\n",
      "521/527 [============================>.] - ETA: 0s - loss: 0.0413 - accuracy: 0.9543\n",
      "Epoch 99: loss improved from 0.04152 to 0.04128, saving model to fourth_try_weights_best.hdf5\n",
      "527/527 [==============================] - 1s 2ms/step - loss: 0.0413 - accuracy: 0.9543\n",
      "Epoch 100/100\n",
      "516/527 [============================>.] - ETA: 0s - loss: 0.0417 - accuracy: 0.9539\n",
      "Epoch 100: loss did not improve from 0.04128\n",
      "527/527 [==============================] - 1s 2ms/step - loss: 0.0417 - accuracy: 0.9540\n"
     ]
    }
   ],
   "source": [
    "import keras\n",
    "from keras.models import Sequential\n",
    "from keras.layers import Dense\n",
    "from keras.callbacks import ModelCheckpoint\n",
    "\n",
    "input_dim = X_train.shape[1]\n",
    "batch_size = int(X_train.shape[0] / 500)\n",
    "epochs = 100\n",
    "train = 1\n",
    "load = 0\n",
    "weight_path = 'fourth_try_weights_best.hdf5'\n",
    "\n",
    "model = Sequential()\n",
    "model.add(Dense(input_dim=input_dim,units=64,activation='relu'))\n",
    "model.add(Dense(units=32,activation='relu'))\n",
    "model.add(Dense(units=1,activation='sigmoid'))\n",
    "# model.compile(optimizer='Adam',loss='binary_crossentropy',metrics=['accuracy'])\n",
    "model.compile(optimizer='Adam',loss='MSE',metrics=['accuracy'])\n",
    "\n",
    "\n",
    "if load == 1:\n",
    "    model.load_weights(weight_path)\n",
    "\n",
    "if train == 1:\n",
    "    # checkpoint\n",
    "    checkpoint = ModelCheckpoint(weight_path, monitor='loss', verbose=1, save_best_only=True,mode='min')\n",
    "    callbacks_list = [checkpoint]\n",
    "    #Train model\n",
    "    # model.fit(X_train,Y_train,epochs=epochs,batch_size=batch_size,validation_split=0,callbacks=callbacks_list)\n",
    "    model.fit(X,Y,epochs=epochs,batch_size=batch_size,validation_split=0,callbacks=callbacks_list)\n",
    "else:\n",
    "    model.load_weights(weight_path)"
   ]
  },
  {
   "cell_type": "code",
   "execution_count": 333,
   "metadata": {},
   "outputs": [],
   "source": [
    "model.load_weights(weight_path)"
   ]
  },
  {
   "cell_type": "code",
   "execution_count": 342,
   "metadata": {},
   "outputs": [
    {
     "name": "stdout",
     "output_type": "stream",
     "text": [
      "751/751 [==============================] - 1s 697us/step\n",
      "              precision    recall  f1-score   support\n",
      "\n",
      "           0       0.97      0.91      0.94      8959\n",
      "           1       0.95      0.98      0.97     15057\n",
      "\n",
      "    accuracy                           0.96     24016\n",
      "   macro avg       0.96      0.95      0.95     24016\n",
      "weighted avg       0.96      0.96      0.96     24016\n",
      "\n",
      "[[ 8197   762]\n",
      " [  272 14785]]\n",
      "Accuracy: 95.69%\n",
      "precision: 0.9594350978357665\n",
      "recall: 0.9484405884865252\n",
      "F1-score: 0.9534418763808703\n"
     ]
    }
   ],
   "source": [
    "from sklearn import metrics\n",
    "\n",
    "def print_acc(expected,predicted):\n",
    "    print(metrics.classification_report(expected,predicted))\n",
    "    print(metrics.confusion_matrix(expected, predicted))\n",
    "    accuracy = accuracy_score(expected, predicted)\n",
    "    print(\"Accuracy: %.2f%%\" % (accuracy * 100.0))\n",
    "\n",
    "    # print(\"Average = macro\")\n",
    "    print('precision:',metrics.precision_score(expected, predicted,average='macro')) \n",
    "    print('recall:',metrics.recall_score(expected, predicted,average='macro'))\n",
    "    print('F1-score:',metrics.f1_score(expected, predicted,average='macro'))\n",
    "\n",
    "\n",
    "predicted = model.predict(X_valid).round()\n",
    "print_acc(Y_valid,predicted)"
   ]
  },
  {
   "attachments": {},
   "cell_type": "markdown",
   "metadata": {},
   "source": [
    "### 提交符合範例的csv檔案"
   ]
  },
  {
   "cell_type": "code",
   "execution_count": 343,
   "metadata": {},
   "outputs": [
    {
     "name": "stdout",
     "output_type": "stream",
     "text": [
      "   alert_key   date\n",
      "0     357307  370.0\n",
      "1     376329    NaN\n",
      "2     373644    NaN\n",
      "3     357668  370.0\n",
      "4     354443  372.0 \n",
      " (3850, 2)\n",
      "alert_key       0\n",
      "date         2005\n",
      "dtype: int64\n"
     ]
    }
   ],
   "source": [
    "df2 = pd.read_csv('預測的案件名單及提交檔案範例.csv').drop('probability',axis=1)\n",
    "\n",
    "df2 = pd.merge(df2,alert_date,on='alert_key',how='left')\n",
    "\n",
    "print(df2.head(),'\\n',df2.shape)\n",
    "print(df2.isnull().sum())"
   ]
  },
  {
   "cell_type": "code",
   "execution_count": 344,
   "metadata": {},
   "outputs": [],
   "source": [
    "df2 = merge_csv(df2)\n",
    "\n",
    "# save alert key\n",
    "df2_ak = df2['alert_key']"
   ]
  },
  {
   "attachments": {},
   "cell_type": "markdown",
   "metadata": {},
   "source": [
    "## 檢查是否保留所有alert_key"
   ]
  },
  {
   "cell_type": "code",
   "execution_count": 337,
   "metadata": {},
   "outputs": [
    {
     "name": "stdout",
     "output_type": "stream",
     "text": [
      "shape of 'df2.groupby('alert_key').first()': (3850, 19)\n"
     ]
    }
   ],
   "source": [
    "print(\"shape of 'df2.groupby('alert_key').first()':\",df2.groupby('alert_key').first().shape)"
   ]
  },
  {
   "cell_type": "code",
   "execution_count": 345,
   "metadata": {},
   "outputs": [],
   "source": [
    "# drop 'cust_id' and 'alert_key'\n",
    "df2.drop(['cust_id','alert_key'],axis=1,inplace=True)\n",
    "\n",
    "#Feature Normalization\n",
    "minmax_scale = preprocessing.MinMaxScaler(feature_range=(0,1))\n",
    "df2=minmax_scale.fit_transform(df2)"
   ]
  },
  {
   "cell_type": "code",
   "execution_count": 348,
   "metadata": {},
   "outputs": [
    {
     "name": "stdout",
     "output_type": "stream",
     "text": [
      "504/504 [==============================] - 0s 703us/step\n",
      "(16115,)\n",
      "(16115, 2)\n",
      "(3850, 2)\n",
      "      alert_key  probability\n",
      "462      355761     1.000000\n",
      "344      355090     1.000000\n",
      "793      357788     0.999997\n",
      "1310     361145     0.999985\n",
      "807      357870     0.999920\n",
      "...         ...          ...\n",
      "899      358431     0.000000\n",
      "36       352501     0.000000\n",
      "34       352495     0.000000\n",
      "61       352705     0.000000\n",
      "56       352693     0.000000\n",
      "\n",
      "[3850 rows x 2 columns]\n"
     ]
    }
   ],
   "source": [
    "ans_y = model.predict(df2).flatten()\n",
    "\n",
    "df3 = pd.DataFrame({\n",
    "    \"probability\":ans_y\n",
    "})\n",
    "print(ans_y.shape)\n",
    "\n",
    "final = pd.concat([df2_ak,df3],axis=1)\n",
    "print(final.shape)\n",
    "\n",
    "final = final.groupby('alert_key',as_index=False).max()\n",
    "print(final.shape)\n",
    "\n",
    "# 機率由大到小\n",
    "final.sort_values(inplace=True,by=['probability'],ascending=False)\n",
    "print(final)\n",
    "\n",
    "final.to_csv('submission_fourth_try.csv', index=False)"
   ]
  },
  {
   "cell_type": "code",
   "execution_count": null,
   "metadata": {},
   "outputs": [],
   "source": [
    "# df4 = pd.read_csv('預測的案件名單及提交檔案範例.csv').drop('probability',axis=1)\n",
    "# print(df4)"
   ]
  },
  {
   "cell_type": "code",
   "execution_count": null,
   "metadata": {},
   "outputs": [],
   "source": [
    "# temp = pd.merge(df4,final,on='alert_key',how='left').fillna(0)\n",
    "# # 機率由大到小\n",
    "# temp.sort_values(inplace=True,by=['probability'],ascending=False)\n",
    "# temp.to_csv('submission_third_try.csv', index=False)\n",
    "# print(temp)"
   ]
  }
 ],
 "metadata": {
  "kernelspec": {
   "display_name": "base",
   "language": "python",
   "name": "python3"
  },
  "language_info": {
   "codemirror_mode": {
    "name": "ipython",
    "version": 3
   },
   "file_extension": ".py",
   "mimetype": "text/x-python",
   "name": "python",
   "nbconvert_exporter": "python",
   "pygments_lexer": "ipython3",
   "version": "3.9.7"
  },
  "orig_nbformat": 4,
  "vscode": {
   "interpreter": {
    "hash": "61ff55f9f3abd31e8fc84dea29263213325a8ef1444d8e535cb6793547393410"
   }
  }
 },
 "nbformat": 4,
 "nbformat_minor": 2
}
